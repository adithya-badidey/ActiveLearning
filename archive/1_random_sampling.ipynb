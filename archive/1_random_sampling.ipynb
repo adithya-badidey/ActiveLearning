{
 "cells": [
  {
   "cell_type": "code",
   "execution_count": 1,
   "metadata": {},
   "outputs": [
    {
     "name": "stdout",
     "output_type": "stream",
     "text": [
      "Pytorch: \t\t 1.10.2+cu102\n",
      "GPU is **not available**\n"
     ]
    }
   ],
   "source": [
    "import torch\n",
    "import numpy as np\n",
    "import matplotlib.pyplot as plt\n",
    "import seaborn as sns\n",
    "import pathlib\n",
    "import os\n",
    "import torchtext\n",
    "from torch.utils.data import DataLoader, random_split\n",
    "from tqdm import tqdm\n",
    "import random\n",
    "import pandas as pd\n",
    "\n",
    "debug = False\n",
    "\n",
    "print(\"Pytorch: \\t\\t\", torch.__version__)\n",
    "if not debug and torch.cuda.is_available():\n",
    "    device='cuda'\n",
    "    print('GPU:         \\t\\t', torch.cuda.get_device_name(0))\n",
    "    print('Memory Usage:\\t',\n",
    "        round(torch.cuda.memory_allocated(0)/1024**3,1), 'GB / ',\n",
    "        round(torch.cuda.memory_reserved(0)/1024**3,1), 'GB')\n",
    "    \n",
    "    torch.backends.cudnn.benchmark = True\n",
    "else:\n",
    "    print(\"GPU is **not available**\")\n",
    "    device='cpu'"
   ]
  },
  {
   "cell_type": "code",
   "execution_count": 2,
   "metadata": {},
   "outputs": [],
   "source": [
    "# Initializing parameters\n",
    "\n",
    "batch_size = 32     # Reduce this if you get memory errors\n",
    "\n",
    "seed = 2476          # A random seed to get replicable results\n",
    "\n",
    "sequence_max_length = 250\n",
    "\n",
    "vocab_size = 10000"
   ]
  },
  {
   "cell_type": "code",
   "execution_count": 3,
   "metadata": {},
   "outputs": [
    {
     "name": "stdout",
     "output_type": "stream",
     "text": [
      "Found the 'aclImdb_v1' dataset.\n"
     ]
    }
   ],
   "source": [
    "data_dir = pathlib.Path('/home/addy/datasets/aclImdb_v1/')\n",
    "\n",
    "if data_dir.exists():\n",
    "    print(\"Found the 'aclImdb_v1' dataset.\")\n",
    "else:\n",
    "    print(\"Downloading the 'aclImdb_v1' dataset.\")\n",
    "    dataset_url = \"http://ai.stanford.edu/~amaas/data/sentiment/aclImdb_v1.tar.gz\"\n",
    "    !wget {dataset_url} -P {data_dir.parent}\n",
    "    !mkdir {data_dir}\n",
    "    !tar xf {data_dir.parent / \"aclImdb_v1.tar.gz\"} -C {data_dir}\n",
    "    !mv {data_dir / 'train' / 'unsup'} {data_dir / 'unsup'}\n",
    "data_dir = data_dir / 'aclImdb'\n"
   ]
  },
  {
   "cell_type": "code",
   "execution_count": 16,
   "metadata": {},
   "outputs": [],
   "source": [
    "class DFDataset(torch.utils.data.Dataset):\n",
    "    def __init__(self, dataframe):\n",
    "        self.df = dataframe\n",
    "\n",
    "    def __len__(self):\n",
    "        return len(self.df)\n",
    "\n",
    "    def __getitem__(self, index):\n",
    "        res = list(self.df.iloc[index])\n",
    "        res.append(index)\n",
    "        return res\n",
    "\n",
    "    def add_new_df(self, new_df):\n",
    "        self.df = self.df.append(new_df, ignore_index=True)"
   ]
  },
  {
   "cell_type": "code",
   "execution_count": 5,
   "metadata": {},
   "outputs": [
    {
     "name": "stdout",
     "output_type": "stream",
     "text": [
      "0\n",
      "\n",
      "('pos', \"Absolutely the most thoughtful, spiritually deep, intense Hamlet ever done -- no other version comes close. Jacobi has the best understanding of the role of all the actors that have played it. Patrick Stewart's Claudius is ferocious and still sympathetic -- I particularly like the two doofuses playing Rosencranz and Guildenstern. Very feckless and yet sinister. Some might gripe about the need for a strong Ophelia -- she's not a strong person, that's the point, and Lalla Ward hits the proper nuances. Amazing. Simply Amazing -- every one of the more than two dozen times I've watched it.\")\n",
      "\n",
      "('pos', \"Am an ardent Vijay fan. I have never seen another movie of his which is as good as this.It has all the regular clichés that one can expect from a commercial entertainer. A hero who is bad in studies but a star in his forte i.e.Kabbadi. His friends to fill in the comedy quota. A heroine in a life-and-death situation. A villain, which I say is the best ever portrayed by the protagonist. High octane chase and action sequences. Music that can make one dance. And above all that a perfect storyline to keep all the above factors within an enjoyable circle. Perfect.The director doesn't give any chance for the audience to loosen up. He just goes on from one nail on the head to the next. And one can see the lighter side of Vijay in this film which he rarely executes.All said.....This movie was and will be perfect for many years to come....\")\n",
      "\n"
     ]
    },
    {
     "data": {
      "text/plain": [
       "(0, 12500, 37500)"
      ]
     },
     "execution_count": 5,
     "metadata": {},
     "output_type": "execute_result"
    }
   ],
   "source": [
    "def cleanup(data):\n",
    "    return data.replace('<br />', '')\n",
    "\n",
    "test_dir = data_dir / 'test'\n",
    "\n",
    "files = [y for y in (test_dir).glob('*/*')] \n",
    "random.shuffle(files)\n",
    "\n",
    "num_test = len(files)//2\n",
    "testdata = [(i.parent.stem, cleanup(open(i).read())) for i in files[:num_test]]\n",
    "\n",
    "oracledata = [(i.parent.stem, cleanup(open(i).read())) for i in files[num_test:]]\n",
    "oracledata += [(i.parent.stem, cleanup(open(i).read())) for i in files]\n",
    "\n",
    "train_dir = data_dir / 'train'\n",
    "\n",
    "files = [y for y in (train_dir).glob('*/*')] \n",
    "\n",
    "testdf = pd.DataFrame(testdata, columns =['cat', 'text'])\n",
    "traindf = pd.DataFrame([], columns =['cat', 'text'])\n",
    "oracledf = pd.DataFrame(oracledata, columns =['cat', 'text'])\n",
    "\n",
    "print(len(traindf))\n",
    "print()\n",
    "print(tuple(testdf.iloc[0]))\n",
    "print()\n",
    "print(tuple(oracledf.iloc[0]))\n",
    "print()\n",
    "len(traindf), len(testdf), len(oracledf)"
   ]
  },
  {
   "cell_type": "code",
   "execution_count": 17,
   "metadata": {},
   "outputs": [],
   "source": [
    "train_dataset = DFDataset(traindf)\n",
    "test_dataset = DFDataset(testdf)\n",
    "oracle_dataset = DFDataset(oracledf)\n"
   ]
  },
  {
   "cell_type": "code",
   "execution_count": 18,
   "metadata": {},
   "outputs": [],
   "source": [
    "from collections import Counter, OrderedDict\n",
    "\n",
    "def build_vocab_from_iterator(iterator, min_freq: int = 1, specials = [], special_first: bool = True, vocab_size = None):\n",
    "    counter = Counter()\n",
    "    for tokens in iterator:\n",
    "        counter.update(tokens)\n",
    "\n",
    "    if specials is not None:\n",
    "        for tok in specials:\n",
    "            del counter[tok]\n",
    "\n",
    "    sorted_by_freq_tuples = sorted(counter.items(), key=lambda x: x[0])\n",
    "    sorted_by_freq_tuples.sort(key=lambda x: x[1], reverse=True)\n",
    "    \n",
    "    if vocab_size is not None:\n",
    "        sorted_by_freq_tuples = sorted_by_freq_tuples[:vocab_size]\n",
    "\n",
    "    ordered_dict = OrderedDict(sorted_by_freq_tuples)\n",
    "\n",
    "    if specials is not None:\n",
    "        if special_first:\n",
    "            specials = specials[::-1]\n",
    "        for symbol in specials:\n",
    "            ordered_dict.update({symbol: min_freq})\n",
    "            ordered_dict.move_to_end(symbol, last=not special_first)\n",
    "\n",
    "    word_vocab = torchtext.vocab.vocab(ordered_dict, min_freq=min_freq)\n",
    "    return word_vocab\n"
   ]
  },
  {
   "cell_type": "code",
   "execution_count": 19,
   "metadata": {},
   "outputs": [],
   "source": [
    "'''\n",
    "Each query strategy below returns a list of len=query_size with indices of \n",
    "samples that are to be queried.\n",
    "\n",
    "Arguments:\n",
    "- model (torch.nn.Module): not needed for `random_query`\n",
    "- device (torch.device): not needed for `random_query`\n",
    "- dataloader (torch.utils.data.DataLoader)\n",
    "- query_size (int): number of samples to be queried for labels (default=10)\n",
    "\n",
    "'''\n",
    "def random_query(data_loader, query_size=10):\n",
    "    \n",
    "    sample_idx = []\n",
    "    \n",
    "    # Because the data has already been shuffled inside the data loader,\n",
    "    # we can simply return the `query_size` first samples from it\n",
    "    for batch in data_loader:\n",
    "        \n",
    "        _, _, idx = batch\n",
    "        sample_idx.extend(idx.tolist())\n",
    "\n",
    "        if len(sample_idx) >= query_size:\n",
    "            break\n",
    "    \n",
    "    return sample_idx[0:query_size]\n",
    "\n",
    "def binary_least_confidence_query(model, device, data_loader, query_size=10):\n",
    "\n",
    "    confidences = []\n",
    "    indices = []\n",
    "    \n",
    "    model.eval()\n",
    "    \n",
    "    with torch.no_grad():\n",
    "        for batch in data_loader:\n",
    "        \n",
    "            data, _, idx = batch\n",
    "            logits = model(data.to(device))\n",
    "            probabilities = F.softmax(logits, dim=1)\n",
    "            \n",
    "            # Keep only the top class confidence for each sample\n",
    "            most_probable = torch.max(probabilities, dim=1)[0]\n",
    "            confidences.extend(most_probable.cpu().tolist())\n",
    "            indices.extend(idx.tolist())\n",
    "            \n",
    "    conf = np.asarray(confidences)\n",
    "    ind = np.asarray(indices)\n",
    "    sorted_pool = np.argsort(conf)\n",
    "    # Return the indices corresponding to the lowest `query_size` confidences\n",
    "    return ind[sorted_pool][0:query_size]\n",
    "\n",
    "def least_confidence_query(model, device, data_loader, query_size=10):\n",
    "\n",
    "    confidences = []\n",
    "    indices = []\n",
    "    \n",
    "    model.eval()\n",
    "    \n",
    "    with torch.no_grad():\n",
    "        for batch in data_loader:\n",
    "        \n",
    "            data, _, idx = batch\n",
    "            logits = model(data.to(device))\n",
    "            probabilities = F.softmax(logits, dim=1)\n",
    "            \n",
    "            # Keep only the top class confidence for each sample\n",
    "            most_probable = torch.max(probabilities, dim=1)[0]\n",
    "            confidences.extend(most_probable.cpu().tolist())\n",
    "            indices.extend(idx.tolist())\n",
    "            \n",
    "    conf = np.asarray(confidences)\n",
    "    ind = np.asarray(indices)\n",
    "    sorted_pool = np.argsort(conf)\n",
    "    # Return the indices corresponding to the lowest `query_size` confidences\n",
    "    return ind[sorted_pool][0:query_size]\n",
    "\n",
    "def margin_query(model, device, data_loader, query_size=10):\n",
    "    \n",
    "    margins = []\n",
    "    indices = []\n",
    "    \n",
    "    model.eval()\n",
    "    \n",
    "    with torch.no_grad():\n",
    "        for batch in data_loader:\n",
    "        \n",
    "            data, _, idx = batch\n",
    "            logits = model(data.to(device))\n",
    "            probabilities = F.softmax(logits, dim=1)\n",
    "            \n",
    "            # Select the top two class confidences for each sample\n",
    "            toptwo = torch.topk(probabilities, 2, dim=1)[0]\n",
    "            \n",
    "            # Compute the margins = differences between the two top confidences\n",
    "            differences = toptwo[:,0]-toptwo[:,1]\n",
    "            margins.extend(torch.abs(differences).cpu().tolist())\n",
    "            indices.extend(idx.tolist())\n",
    "\n",
    "    margin = np.asarray(margins)\n",
    "    index = np.asarray(indices)\n",
    "    sorted_pool = np.argsort(margin)\n",
    "    # Return the indices corresponding to the lowest `query_size` margins\n",
    "    return index[sorted_pool][0:query_size]\n"
   ]
  },
  {
   "cell_type": "code",
   "execution_count": 20,
   "metadata": {},
   "outputs": [],
   "source": [
    "def query_the_oracle(model, device, dataset, query_size=10, query_strategy='random', \n",
    "                     interactive=False, pool_size=0, num_workers=4):\n",
    "    if pool_size > 0:    \n",
    "        sampler = torch.utils.data.RandomSampler(dataset, replacement=True, num_samples=pool_size)\n",
    "        pool_loader = DataLoader(dataset, sampler=sampler, batch_size=batch_size, num_workers=num_workers)\n",
    "    else:\n",
    "        pool_loader = DataLoader(dataset, batch_size=batch_size, num_workers=num_workers, shuffle=True)\n",
    "        \n",
    "    if query_strategy == 'margin':\n",
    "        sample_idx = margin_query(model, device, pool_loader, query_size)\n",
    "    elif query_strategy == 'least_confidence':\n",
    "        sample_idx = least_confidence_query(model, device, pool_loader, query_size)\n",
    "    else:\n",
    "        sample_idx = random_query(pool_loader, query_size)\n",
    "\n",
    "    # Query the samples, one at a time\n",
    "    # for sample in sample_idx:\n",
    "    #     if interactive:\n",
    "            # dataset.display(sample)\n",
    "            # print(\"What is the class of this image?\")\n",
    "            # new_label = int(input())\n",
    "            # dataset.update_label(sample, new_label)\n",
    "\n",
    "    res = dataset.df.iloc[sample_idx]\n",
    "    dataset.df.drop(dataset.df.iloc[sample_idx].index, inplace=True)\n",
    "    return res\n",
    "\n",
    "def query_the_binary_oracle(model, device, dataset, query_size=10, query_strategy='random', \n",
    "                     interactive=False, pool_size=0, num_workers=4):\n",
    "    if pool_size > 0:    \n",
    "        sampler = torch.utils.data.RandomSampler(dataset, replacement=True, num_samples=pool_size)\n",
    "        pool_loader = DataLoader(dataset, sampler=sampler, batch_size=batch_size, num_workers=num_workers)\n",
    "    else:\n",
    "        pool_loader = DataLoader(dataset, batch_size=batch_size, num_workers=num_workers, shuffle=True)\n",
    "        \n",
    "    if query_strategy == 'least_confidence':\n",
    "        sample_idx = binary_least_confidence_query(model, device, pool_loader, query_size)\n",
    "    if query_strategy == 'split':\n",
    "        half = query_size//2\n",
    "        sample_idx = binary_least_confidence_query(model, device, pool_loader, half)\n",
    "        sample_idx += random_query(pool_loader, query_size, query_size - half)\n",
    "    else:\n",
    "        sample_idx = random_query(pool_loader, query_size)\n",
    "\n",
    "    # Query the samples, one at a time\n",
    "    # for sample in sample_idx:\n",
    "    #     if interactive:\n",
    "            # dataset.display(sample)\n",
    "            # print(\"What is the class of this image?\")\n",
    "            # new_label = int(input())\n",
    "            # dataset.update_label(sample, new_label)\n",
    "\n",
    "    res = dataset.df.iloc[sample_idx]\n",
    "    dataset.df.drop(dataset.df.iloc[sample_idx].index, inplace=True)\n",
    "    return res"
   ]
  },
  {
   "cell_type": "code",
   "execution_count": 21,
   "metadata": {},
   "outputs": [],
   "source": [
    "splits = {\n",
    "    0: 12500\n",
    "}\n",
    "\n",
    "new_datapoints = query_the_binary_oracle(None, device, oracle_dataset, splits[0])\n",
    "train_dataset.add_new_df(new_datapoints)"
   ]
  },
  {
   "cell_type": "code",
   "execution_count": 22,
   "metadata": {},
   "outputs": [
    {
     "data": {
      "text/plain": [
       "12500"
      ]
     },
     "execution_count": 22,
     "metadata": {},
     "output_type": "execute_result"
    }
   ],
   "source": [
    "len(train_dataset.df)"
   ]
  },
  {
   "cell_type": "code",
   "execution_count": 23,
   "metadata": {},
   "outputs": [],
   "source": [
    "from torchtext.data.utils import get_tokenizer\n",
    "\n",
    "tokenizer = get_tokenizer('basic_english')\n",
    "\n",
    "def yield_tokens(data_iter):\n",
    "    for _, text, _ in data_iter:\n",
    "        yield tokenizer(text)\n",
    "\n",
    "vocab = build_vocab_from_iterator(yield_tokens(train_dataset), specials=[\"<pad>\", \"<unk>\"], vocab_size=10000-2)\n",
    "vocab.set_default_index(vocab[\"<unk>\"])\n",
    "\n",
    "pad_id = vocab['<pad>']"
   ]
  },
  {
   "cell_type": "code",
   "execution_count": 24,
   "metadata": {},
   "outputs": [],
   "source": [
    "text_pipeline = lambda x: vocab(tokenizer(x))\n",
    "label_pipeline = lambda x: 1 if x == 'pos' else 0"
   ]
  },
  {
   "cell_type": "code",
   "execution_count": 25,
   "metadata": {},
   "outputs": [
    {
     "data": {
      "text/plain": [
       "(0, 10000)"
      ]
     },
     "execution_count": 25,
     "metadata": {},
     "output_type": "execute_result"
    }
   ],
   "source": [
    "pad_id, len(vocab)"
   ]
  },
  {
   "cell_type": "markdown",
   "metadata": {},
   "source": [
    "## Avoiding ValueError (using a target size different to the input size)\n",
    "\n",
    "```ValueError: Using a target size (torch.Size([32])) that is different to the input size (torch.Size([32, 1])) is deprecated. Please ensure they have the same size.```\n",
    "\n",
    "Simply add `.unsqueeze(-1)` to the end of your label tensor.\n",
    "\n"
   ]
  },
  {
   "cell_type": "code",
   "execution_count": 26,
   "metadata": {},
   "outputs": [],
   "source": [
    "def collate_batch(batch):\n",
    "     label_list, text_list, idx_list = [], [], []\n",
    "     for (label, text, idx) in batch:\n",
    "          input = text_pipeline(text)\n",
    "          label_list.append(torch.tensor([label_pipeline(label)], dtype=torch.float32))\n",
    "          \n",
    "          a = torch.tensor(input[:sequence_max_length], dtype=torch.int64)\n",
    "          b = torch.zeros(max(0, sequence_max_length - len(input)), dtype=torch.int64)\n",
    "          text_list.append(torch.cat((a,b)))\n",
    "\n",
    "          idx_list.append(idx)\n",
    "               \n",
    "     label_list = torch.stack(label_list)\n",
    "     text_list = torch.stack(text_list)\n",
    "     return text_list, label_list, idx_list"
   ]
  },
  {
   "cell_type": "code",
   "execution_count": 27,
   "metadata": {},
   "outputs": [],
   "source": [
    "train_dataloader = DataLoader(\n",
    "    train_dataset,\n",
    "    shuffle=True,\n",
    "    num_workers=8,\n",
    "    batch_size=batch_size,\n",
    "    collate_fn=collate_batch)\n",
    "\n",
    "test_dataloader = DataLoader(\n",
    "    test_dataset, \n",
    "    num_workers=8,\n",
    "    batch_size=batch_size, \n",
    "    collate_fn=collate_batch)\n"
   ]
  },
  {
   "cell_type": "code",
   "execution_count": 28,
   "metadata": {},
   "outputs": [
    {
     "name": "stdout",
     "output_type": "stream",
     "text": [
      "Shape of X:  torch.Size([32, 250])\n",
      "Labels :  torch.Size([32, 1])\n",
      "SAMPLE\n",
      "Label:  1.0\n",
      "Text:\n",
      "this is one of the best films made about the 80 punk scene . i saw this a few years back on a <unk> copy and was amazed . very few of todays kids know the true roots of punk and this movie shows some of the 80s punk legends such as the <unk> and shows how it was back then . nowadays so much punk has gone mainstream with mtv and radio and its nice to see the true underground rebellious movement of the original scene . <unk> crash ( of the <unk> ) is one of my <unk> and this film shows why . a must see for all punks and anyone curious about the 80s punk scene <pad> <pad> <pad> <pad> <pad> <pad> <pad> <pad> <pad> <pad> <pad> <pad> <pad> <pad> <pad> <pad> <pad> <pad> <pad> <pad> <pad> <pad> <pad> <pad> <pad> <pad> <pad> <pad> <pad> <pad> <pad> <pad> <pad> <pad> <pad> <pad> <pad> <pad> <pad> <pad> <pad> <pad> <pad> <pad> <pad> <pad> <pad> <pad> <pad> <pad> <pad> <pad> <pad> <pad> <pad> <pad> <pad> <pad> <pad> <pad> <pad> <pad> <pad> <pad> <pad> <pad> <pad> <pad> <pad> <pad> <pad> <pad> <pad> <pad> <pad> <pad> <pad> <pad> <pad> <pad> <pad> <pad> <pad> <pad> <pad> <pad> <pad> <pad> <pad> <pad> <pad> <pad> <pad> <pad> <pad> <pad> <pad> <pad> <pad> <pad> <pad> <pad> <pad> <pad> <pad> <pad> <pad> <pad> <pad> <pad> <pad> <pad> <pad> <pad> <pad> <pad> <pad> <pad> <pad> <pad> <pad> <pad> <pad> <pad> <pad> <pad> <pad> <pad> <pad> <pad>\n"
     ]
    }
   ],
   "source": [
    "\n",
    "for X, y, _ in train_dataloader:\n",
    "    print(\"Shape of X: \", X.shape)\n",
    "    print(\"Labels : \", y.shape)\n",
    "    print(\"SAMPLE\")\n",
    "    print(\"Label: \",y[0].item())\n",
    "    print(\"Text:\")\n",
    "    print(\" \".join(vocab.lookup_tokens(X[0].tolist())))\n",
    "    # print(X, y, o)\n",
    "    break"
   ]
  },
  {
   "cell_type": "code",
   "execution_count": 29,
   "metadata": {},
   "outputs": [],
   "source": [
    "from torch import nn\n",
    "\n",
    "class ClassifyNet(nn.Module):\n",
    "\n",
    "    def __init__(self, vocab_size, embed_dim, num_class):\n",
    "        super().__init__()\n",
    "        self.emb = nn.Embedding(vocab_size, embed_dim)\n",
    "        # self.pool = nn.AvgPool1d(3, stride=2)\n",
    "        self.fc = nn.Linear(embed_dim, num_class)\n",
    "        self.dropout = nn.Dropout(0.2)\n",
    "        self.dropout2 = nn.Dropout(0.2)\n",
    "\n",
    "    def forward(self, x):\n",
    "        x = self.emb(x)\n",
    "        # print(x.shape)\n",
    "        x = self.dropout(x)\n",
    "        x = torch.mean(x, 1)\n",
    "        x = self.dropout2(x)\n",
    "        # print(x.shape)\n",
    "        x = self.fc(x)\n",
    "\n",
    "        return torch.sigmoid(x)"
   ]
  },
  {
   "cell_type": "code",
   "execution_count": 30,
   "metadata": {},
   "outputs": [
    {
     "data": {
      "text/plain": [
       "torch.Size([32, 16])"
      ]
     },
     "execution_count": 30,
     "metadata": {},
     "output_type": "execute_result"
    }
   ],
   "source": [
    "a = torch.randn(32, 250, 16)\n",
    "torch.mean(a, 1).shape"
   ]
  },
  {
   "cell_type": "code",
   "execution_count": 31,
   "metadata": {},
   "outputs": [],
   "source": [
    "def train_loop(dataloader, model, loss_fn, optimizer, history):\n",
    "    size = len(dataloader.dataset)\n",
    "    total_loss, accuracy = 0, 0\n",
    "    for batch, (X, y, _) in enumerate(dataloader):\n",
    "        X = X.to(device)\n",
    "        y = y.to(device)\n",
    "        \n",
    "        #FORWARD PASS\n",
    "        pred = model(X)\n",
    "        loss = loss_fn(pred, y)\n",
    "\n",
    "        # Backpropagation\n",
    "        optimizer.zero_grad()\n",
    "        loss.backward()\n",
    "        optimizer.step()\n",
    "\n",
    "        total_loss += loss.item()\n",
    "        accuracy += (torch.round(pred) == y).type(torch.float).sum().item()\n",
    "\n",
    "        # if batch % 100 == 0:\n",
    "        #     loss, current = loss.item(), batch * len(X)\n",
    "        #     print(f\"loss: {loss:>7f}  [{current:>5d}/{size:>5d}]\")\n",
    "    accuracy /= size\n",
    "    total_loss /= size\n",
    "    history['train_loss'].append(total_loss)\n",
    "    history['train_accuracy'].append(accuracy)\n",
    "    return loss, accuracy\n",
    "\n",
    "\n",
    "def test_loop(dataloader, model, loss_fn, history):\n",
    "    size = len(dataloader.dataset)\n",
    "    num_batches = len(dataloader)\n",
    "    loss, accuracy = 0, 0\n",
    "\n",
    "    with torch.no_grad():\n",
    "        for X, y, _ in dataloader:\n",
    "            X = X.to(device)\n",
    "            y = y.to(device)\n",
    "            \n",
    "            pred = model(X)\n",
    "            \n",
    "            loss += loss_fn(pred, y).item()\n",
    "            accuracy += (torch.round(pred) == y).type(torch.float).sum().item()\n",
    "\n",
    "    loss /= num_batches\n",
    "    accuracy /= size\n",
    "\n",
    "    history['test_loss'].append(loss)\n",
    "    history['test_accuracy'].append(accuracy)\n",
    "    return loss, accuracy"
   ]
  },
  {
   "cell_type": "code",
   "execution_count": 36,
   "metadata": {},
   "outputs": [],
   "source": [
    "emsize = 16\n",
    "num_classes = 1\n",
    "vocab_size = len(vocab)\n",
    "\n",
    "model = ClassifyNet(vocab_size, emsize, num_classes).to(device)\n",
    "    \n",
    "loss_fn = nn.BCELoss()\n",
    "optimizer = torch.optim.Adam(model.parameters(), lr=3e-3)\n",
    "\n"
   ]
  },
  {
   "cell_type": "code",
   "execution_count": 37,
   "metadata": {},
   "outputs": [
    {
     "name": "stdout",
     "output_type": "stream",
     "text": [
      "Number of trainable parameters: 160017\n"
     ]
    }
   ],
   "source": [
    "count = sum(p.numel() for p in model.parameters() if p.requires_grad)\n",
    "print(f\"Number of trainable parameters: {count}\")"
   ]
  },
  {
   "cell_type": "code",
   "execution_count": 38,
   "metadata": {},
   "outputs": [
    {
     "name": "stderr",
     "output_type": "stream",
     "text": [
      "01:06 Elapsed | 100% done |██████████| 30/30 [00:00 remaining |  2.22s/epoch]\n"
     ]
    }
   ],
   "source": [
    "epochs = 30\n",
    "history = {\n",
    "    'train_loss':[],\n",
    "    'train_accuracy':[],\n",
    "    'test_loss':[],\n",
    "    'test_accuracy':[]\n",
    "}\n",
    "\n",
    "for t in tqdm(range(epochs), bar_format=\"{elapsed} Elapsed | {percentage:3.0f}% done |{bar}| {n_fmt}/{total_fmt} [{remaining} remaining | {rate_fmt}{postfix}]\", unit=\"epoch\", total=epochs):\n",
    "    # if t % 4 == 3:\n",
    "    #     new_datapoints = query_the_oracle(model, device, oracle_dataset, 10)\n",
    "    #     train_dataset.add_new_df(new_datapoints)\n",
    "    #     train_dataloader = DataLoader(\n",
    "    #         train_dataset,\n",
    "    #         shuffle=True,\n",
    "    #         num_workers=8,\n",
    "    #         batch_size=batch_size,\n",
    "    #         collate_fn=collate_batch)\n",
    "            \n",
    "    train_loop(train_dataloader, model, loss_fn, optimizer, history)\n",
    "    test_loop(test_dataloader, model, loss_fn, history)"
   ]
  },
  {
   "cell_type": "code",
   "execution_count": 39,
   "metadata": {},
   "outputs": [
    {
     "data": {
      "image/png": "[encoded data removed]",
      "image/svg+xml": "<?xml version=\"1.0\" encoding=\"utf-8\" standalone=\"no\"?>\n<!DOCTYPE svg PUBLIC \"-//W3C//DTD SVG 1.1//EN\"\n  \"http://www.w3.org/Graphics/SVG/1.1/DTD/svg11.dtd\">\n<svg xmlns:xlink=\"http://www.w3.org/1999/xlink\" width=\"493.565771pt\" height=\"481.07625pt\" viewBox=\"0 0 493.565771 481.07625\" xmlns=\"http://www.w3.org/2000/svg\" version=\"1.1\">\n <metadata>\n  <rdf:RDF xmlns:dc=\"http://purl.org/dc/elements/1.1/\" xmlns:cc=\"http://creativecommons.org/ns#\" xmlns:rdf=\"http://www.w3.org/1999/02/22-rdf-syntax-ns#\">\n   <cc:Work>\n    <dc:type rdf:resource=\"http://purl.org/dc/dcmitype/StillImage\"/>\n    <dc:date>2022-04-28T10:54:30.840777</dc:date>\n    <dc:format>image/svg+xml</dc:format>\n    <dc:creator>\n     <cc:Agent>\n      <dc:title>Matplotlib v3.5.1, https://matplotlib.org/</dc:title>\n     </cc:Agent>\n    </dc:creator>\n   </cc:Work>\n  </rdf:RDF>\n </metadata>\n <defs>\n  <style type=\"text/css\">*{stroke-linejoin: round; stroke-linecap: butt}</style>\n </defs>\n <g id=\"figure_1\">\n  <g id=\"patch_1\">\n   <path d=\"M 0 481.07625 \nL 493.565771 481.07625 \nL 493.565771 0 \nL 0 0 \nL 0 481.07625 \nz\n\" style=\"fill: none\"/>\n  </g>\n  <g id=\"axes_1\">\n   <g id=\"patch_2\">\n    <path d=\"M 36.465625 457.198125 \nL 239.374716 457.198125 \nL 239.374716 22.318125 \nL 36.465625 22.318125 \nz\n\" style=\"fill: #ffffff\"/>\n   </g>\n   <g id=\"matplotlib.axis_1\">\n    <g id=\"xtick_1\">\n     <g id=\"line2d_1\">\n      <defs>\n       <path id=\"m924c8c9dac\" d=\"M 0 0 \nL 0 3.5 \n\" style=\"stroke: #000000; stroke-width: 0.8\"/>\n      </defs>\n      <g>\n       <use xlink:href=\"#m924c8c9dac\" x=\"45.688765\" y=\"457.198125\" style=\"stroke: #000000; stroke-width: 0.8\"/>\n      </g>\n     </g>\n     <g id=\"text_1\">\n      <!-- 0 -->\n      <g transform=\"translate(42.507515 471.796562)scale(0.1 -0.1)\">\n       <defs>\n        <path id=\"DejaVuSans-30\" d=\"M 2034 4250 \nQ 1547 4250 1301 3770 \nQ 1056 3291 1056 2328 \nQ 1056 1369 1301 889 \nQ 1547 409 2034 409 \nQ 2525 409 2770 889 \nQ 3016 1369 3016 2328 \nQ 3016 3291 2770 3770 \nQ 2525 4250 2034 4250 \nz\nM 2034 4750 \nQ 2819 4750 3233 4129 \nQ 3647 3509 3647 2328 \nQ 3647 1150 3233 529 \nQ 2819 -91 2034 -91 \nQ 1250 -91 836 529 \nQ 422 1150 422 2328 \nQ 422 3509 836 4129 \nQ 1250 4750 2034 4750 \nz\n\" transform=\"scale(0.015625)\"/>\n       </defs>\n       <use xlink:href=\"#DejaVuSans-30\"/>\n      </g>\n     </g>\n    </g>\n    <g id=\"xtick_2\">\n     <g id=\"line2d_2\">\n      <g>\n       <use xlink:href=\"#m924c8c9dac\" x=\"109.296631\" y=\"457.198125\" style=\"stroke: #000000; stroke-width: 0.8\"/>\n      </g>\n     </g>\n     <g id=\"text_2\">\n      <!-- 10 -->\n      <g transform=\"translate(102.934131 471.796562)scale(0.1 -0.1)\">\n       <defs>\n        <path id=\"DejaVuSans-31\" d=\"M 794 531 \nL 1825 531 \nL 1825 4091 \nL 703 3866 \nL 703 4441 \nL 1819 4666 \nL 2450 4666 \nL 2450 531 \nL 3481 531 \nL 3481 0 \nL 794 0 \nL 794 531 \nz\n\" transform=\"scale(0.015625)\"/>\n       </defs>\n       <use xlink:href=\"#DejaVuSans-31\"/>\n       <use xlink:href=\"#DejaVuSans-30\" x=\"63.623047\"/>\n      </g>\n     </g>\n    </g>\n    <g id=\"xtick_3\">\n     <g id=\"line2d_3\">\n      <g>\n       <use xlink:href=\"#m924c8c9dac\" x=\"172.904496\" y=\"457.198125\" style=\"stroke: #000000; stroke-width: 0.8\"/>\n      </g>\n     </g>\n     <g id=\"text_3\">\n      <!-- 20 -->\n      <g transform=\"translate(166.541996 471.796562)scale(0.1 -0.1)\">\n       <defs>\n        <path id=\"DejaVuSans-32\" d=\"M 1228 531 \nL 3431 531 \nL 3431 0 \nL 469 0 \nL 469 531 \nQ 828 903 1448 1529 \nQ 2069 2156 2228 2338 \nQ 2531 2678 2651 2914 \nQ 2772 3150 2772 3378 \nQ 2772 3750 2511 3984 \nQ 2250 4219 1831 4219 \nQ 1534 4219 1204 4116 \nQ 875 4013 500 3803 \nL 500 4441 \nQ 881 4594 1212 4672 \nQ 1544 4750 1819 4750 \nQ 2544 4750 2975 4387 \nQ 3406 4025 3406 3419 \nQ 3406 3131 3298 2873 \nQ 3191 2616 2906 2266 \nQ 2828 2175 2409 1742 \nQ 1991 1309 1228 531 \nz\n\" transform=\"scale(0.015625)\"/>\n       </defs>\n       <use xlink:href=\"#DejaVuSans-32\"/>\n       <use xlink:href=\"#DejaVuSans-30\" x=\"63.623047\"/>\n      </g>\n     </g>\n    </g>\n    <g id=\"xtick_4\">\n     <g id=\"line2d_4\">\n      <g>\n       <use xlink:href=\"#m924c8c9dac\" x=\"236.512362\" y=\"457.198125\" style=\"stroke: #000000; stroke-width: 0.8\"/>\n      </g>\n     </g>\n     <g id=\"text_4\">\n      <!-- 30 -->\n      <g transform=\"translate(230.149862 471.796562)scale(0.1 -0.1)\">\n       <defs>\n        <path id=\"DejaVuSans-33\" d=\"M 2597 2516 \nQ 3050 2419 3304 2112 \nQ 3559 1806 3559 1356 \nQ 3559 666 3084 287 \nQ 2609 -91 1734 -91 \nQ 1441 -91 1130 -33 \nQ 819 25 488 141 \nL 488 750 \nQ 750 597 1062 519 \nQ 1375 441 1716 441 \nQ 2309 441 2620 675 \nQ 2931 909 2931 1356 \nQ 2931 1769 2642 2001 \nQ 2353 2234 1838 2234 \nL 1294 2234 \nL 1294 2753 \nL 1863 2753 \nQ 2328 2753 2575 2939 \nQ 2822 3125 2822 3475 \nQ 2822 3834 2567 4026 \nQ 2313 4219 1838 4219 \nQ 1578 4219 1281 4162 \nQ 984 4106 628 3988 \nL 628 4550 \nQ 988 4650 1302 4700 \nQ 1616 4750 1894 4750 \nQ 2613 4750 3031 4423 \nQ 3450 4097 3450 3541 \nQ 3450 3153 3228 2886 \nQ 3006 2619 2597 2516 \nz\n\" transform=\"scale(0.015625)\"/>\n       </defs>\n       <use xlink:href=\"#DejaVuSans-33\"/>\n       <use xlink:href=\"#DejaVuSans-30\" x=\"63.623047\"/>\n      </g>\n     </g>\n    </g>\n   </g>\n   <g id=\"matplotlib.axis_2\">\n    <g id=\"ytick_1\">\n     <g id=\"line2d_5\">\n      <defs>\n       <path id=\"m29997a6e77\" d=\"M 0 0 \nL -3.5 0 \n\" style=\"stroke: #000000; stroke-width: 0.8\"/>\n      </defs>\n      <g>\n       <use xlink:href=\"#m29997a6e77\" x=\"36.465625\" y=\"439.135627\" style=\"stroke: #000000; stroke-width: 0.8\"/>\n      </g>\n     </g>\n     <g id=\"text_5\">\n      <!-- 0.60 -->\n      <g transform=\"translate(7.2 442.934846)scale(0.1 -0.1)\">\n       <defs>\n        <path id=\"DejaVuSans-2e\" d=\"M 684 794 \nL 1344 794 \nL 1344 0 \nL 684 0 \nL 684 794 \nz\n\" transform=\"scale(0.015625)\"/>\n        <path id=\"DejaVuSans-36\" d=\"M 2113 2584 \nQ 1688 2584 1439 2293 \nQ 1191 2003 1191 1497 \nQ 1191 994 1439 701 \nQ 1688 409 2113 409 \nQ 2538 409 2786 701 \nQ 3034 994 3034 1497 \nQ 3034 2003 2786 2293 \nQ 2538 2584 2113 2584 \nz\nM 3366 4563 \nL 3366 3988 \nQ 3128 4100 2886 4159 \nQ 2644 4219 2406 4219 \nQ 1781 4219 1451 3797 \nQ 1122 3375 1075 2522 \nQ 1259 2794 1537 2939 \nQ 1816 3084 2150 3084 \nQ 2853 3084 3261 2657 \nQ 3669 2231 3669 1497 \nQ 3669 778 3244 343 \nQ 2819 -91 2113 -91 \nQ 1303 -91 875 529 \nQ 447 1150 447 2328 \nQ 447 3434 972 4092 \nQ 1497 4750 2381 4750 \nQ 2619 4750 2861 4703 \nQ 3103 4656 3366 4563 \nz\n\" transform=\"scale(0.015625)\"/>\n       </defs>\n       <use xlink:href=\"#DejaVuSans-30\"/>\n       <use xlink:href=\"#DejaVuSans-2e\" x=\"63.623047\"/>\n       <use xlink:href=\"#DejaVuSans-36\" x=\"95.410156\"/>\n       <use xlink:href=\"#DejaVuSans-30\" x=\"159.033203\"/>\n      </g>\n     </g>\n    </g>\n    <g id=\"ytick_2\">\n     <g id=\"line2d_6\">\n      <g>\n       <use xlink:href=\"#m29997a6e77\" x=\"36.465625\" y=\"388.398274\" style=\"stroke: #000000; stroke-width: 0.8\"/>\n      </g>\n     </g>\n     <g id=\"text_6\">\n      <!-- 0.65 -->\n      <g transform=\"translate(7.2 392.197493)scale(0.1 -0.1)\">\n       <defs>\n        <path id=\"DejaVuSans-35\" d=\"M 691 4666 \nL 3169 4666 \nL 3169 4134 \nL 1269 4134 \nL 1269 2991 \nQ 1406 3038 1543 3061 \nQ 1681 3084 1819 3084 \nQ 2600 3084 3056 2656 \nQ 3513 2228 3513 1497 \nQ 3513 744 3044 326 \nQ 2575 -91 1722 -91 \nQ 1428 -91 1123 -41 \nQ 819 9 494 109 \nL 494 744 \nQ 775 591 1075 516 \nQ 1375 441 1709 441 \nQ 2250 441 2565 725 \nQ 2881 1009 2881 1497 \nQ 2881 1984 2565 2268 \nQ 2250 2553 1709 2553 \nQ 1456 2553 1204 2497 \nQ 953 2441 691 2322 \nL 691 4666 \nz\n\" transform=\"scale(0.015625)\"/>\n       </defs>\n       <use xlink:href=\"#DejaVuSans-30\"/>\n       <use xlink:href=\"#DejaVuSans-2e\" x=\"63.623047\"/>\n       <use xlink:href=\"#DejaVuSans-36\" x=\"95.410156\"/>\n       <use xlink:href=\"#DejaVuSans-35\" x=\"159.033203\"/>\n      </g>\n     </g>\n    </g>\n    <g id=\"ytick_3\">\n     <g id=\"line2d_7\">\n      <g>\n       <use xlink:href=\"#m29997a6e77\" x=\"36.465625\" y=\"337.660921\" style=\"stroke: #000000; stroke-width: 0.8\"/>\n      </g>\n     </g>\n     <g id=\"text_7\">\n      <!-- 0.70 -->\n      <g transform=\"translate(7.2 341.46014)scale(0.1 -0.1)\">\n       <defs>\n        <path id=\"DejaVuSans-37\" d=\"M 525 4666 \nL 3525 4666 \nL 3525 4397 \nL 1831 0 \nL 1172 0 \nL 2766 4134 \nL 525 4134 \nL 525 4666 \nz\n\" transform=\"scale(0.015625)\"/>\n       </defs>\n       <use xlink:href=\"#DejaVuSans-30\"/>\n       <use xlink:href=\"#DejaVuSans-2e\" x=\"63.623047\"/>\n       <use xlink:href=\"#DejaVuSans-37\" x=\"95.410156\"/>\n       <use xlink:href=\"#DejaVuSans-30\" x=\"159.033203\"/>\n      </g>\n     </g>\n    </g>\n    <g id=\"ytick_4\">\n     <g id=\"line2d_8\">\n      <g>\n       <use xlink:href=\"#m29997a6e77\" x=\"36.465625\" y=\"286.923568\" style=\"stroke: #000000; stroke-width: 0.8\"/>\n      </g>\n     </g>\n     <g id=\"text_8\">\n      <!-- 0.75 -->\n      <g transform=\"translate(7.2 290.722787)scale(0.1 -0.1)\">\n       <use xlink:href=\"#DejaVuSans-30\"/>\n       <use xlink:href=\"#DejaVuSans-2e\" x=\"63.623047\"/>\n       <use xlink:href=\"#DejaVuSans-37\" x=\"95.410156\"/>\n       <use xlink:href=\"#DejaVuSans-35\" x=\"159.033203\"/>\n      </g>\n     </g>\n    </g>\n    <g id=\"ytick_5\">\n     <g id=\"line2d_9\">\n      <g>\n       <use xlink:href=\"#m29997a6e77\" x=\"36.465625\" y=\"236.186215\" style=\"stroke: #000000; stroke-width: 0.8\"/>\n      </g>\n     </g>\n     <g id=\"text_9\">\n      <!-- 0.80 -->\n      <g transform=\"translate(7.2 239.985434)scale(0.1 -0.1)\">\n       <defs>\n        <path id=\"DejaVuSans-38\" d=\"M 2034 2216 \nQ 1584 2216 1326 1975 \nQ 1069 1734 1069 1313 \nQ 1069 891 1326 650 \nQ 1584 409 2034 409 \nQ 2484 409 2743 651 \nQ 3003 894 3003 1313 \nQ 3003 1734 2745 1975 \nQ 2488 2216 2034 2216 \nz\nM 1403 2484 \nQ 997 2584 770 2862 \nQ 544 3141 544 3541 \nQ 544 4100 942 4425 \nQ 1341 4750 2034 4750 \nQ 2731 4750 3128 4425 \nQ 3525 4100 3525 3541 \nQ 3525 3141 3298 2862 \nQ 3072 2584 2669 2484 \nQ 3125 2378 3379 2068 \nQ 3634 1759 3634 1313 \nQ 3634 634 3220 271 \nQ 2806 -91 2034 -91 \nQ 1263 -91 848 271 \nQ 434 634 434 1313 \nQ 434 1759 690 2068 \nQ 947 2378 1403 2484 \nz\nM 1172 3481 \nQ 1172 3119 1398 2916 \nQ 1625 2713 2034 2713 \nQ 2441 2713 2670 2916 \nQ 2900 3119 2900 3481 \nQ 2900 3844 2670 4047 \nQ 2441 4250 2034 4250 \nQ 1625 4250 1398 4047 \nQ 1172 3844 1172 3481 \nz\n\" transform=\"scale(0.015625)\"/>\n       </defs>\n       <use xlink:href=\"#DejaVuSans-30\"/>\n       <use xlink:href=\"#DejaVuSans-2e\" x=\"63.623047\"/>\n       <use xlink:href=\"#DejaVuSans-38\" x=\"95.410156\"/>\n       <use xlink:href=\"#DejaVuSans-30\" x=\"159.033203\"/>\n      </g>\n     </g>\n    </g>\n    <g id=\"ytick_6\">\n     <g id=\"line2d_10\">\n      <g>\n       <use xlink:href=\"#m29997a6e77\" x=\"36.465625\" y=\"185.448862\" style=\"stroke: #000000; stroke-width: 0.8\"/>\n      </g>\n     </g>\n     <g id=\"text_10\">\n      <!-- 0.85 -->\n      <g transform=\"translate(7.2 189.248081)scale(0.1 -0.1)\">\n       <use xlink:href=\"#DejaVuSans-30\"/>\n       <use xlink:href=\"#DejaVuSans-2e\" x=\"63.623047\"/>\n       <use xlink:href=\"#DejaVuSans-38\" x=\"95.410156\"/>\n       <use xlink:href=\"#DejaVuSans-35\" x=\"159.033203\"/>\n      </g>\n     </g>\n    </g>\n    <g id=\"ytick_7\">\n     <g id=\"line2d_11\">\n      <g>\n       <use xlink:href=\"#m29997a6e77\" x=\"36.465625\" y=\"134.711509\" style=\"stroke: #000000; stroke-width: 0.8\"/>\n      </g>\n     </g>\n     <g id=\"text_11\">\n      <!-- 0.90 -->\n      <g transform=\"translate(7.2 138.510728)scale(0.1 -0.1)\">\n       <defs>\n        <path id=\"DejaVuSans-39\" d=\"M 703 97 \nL 703 672 \nQ 941 559 1184 500 \nQ 1428 441 1663 441 \nQ 2288 441 2617 861 \nQ 2947 1281 2994 2138 \nQ 2813 1869 2534 1725 \nQ 2256 1581 1919 1581 \nQ 1219 1581 811 2004 \nQ 403 2428 403 3163 \nQ 403 3881 828 4315 \nQ 1253 4750 1959 4750 \nQ 2769 4750 3195 4129 \nQ 3622 3509 3622 2328 \nQ 3622 1225 3098 567 \nQ 2575 -91 1691 -91 \nQ 1453 -91 1209 -44 \nQ 966 3 703 97 \nz\nM 1959 2075 \nQ 2384 2075 2632 2365 \nQ 2881 2656 2881 3163 \nQ 2881 3666 2632 3958 \nQ 2384 4250 1959 4250 \nQ 1534 4250 1286 3958 \nQ 1038 3666 1038 3163 \nQ 1038 2656 1286 2365 \nQ 1534 2075 1959 2075 \nz\n\" transform=\"scale(0.015625)\"/>\n       </defs>\n       <use xlink:href=\"#DejaVuSans-30\"/>\n       <use xlink:href=\"#DejaVuSans-2e\" x=\"63.623047\"/>\n       <use xlink:href=\"#DejaVuSans-39\" x=\"95.410156\"/>\n       <use xlink:href=\"#DejaVuSans-30\" x=\"159.033203\"/>\n      </g>\n     </g>\n    </g>\n    <g id=\"ytick_8\">\n     <g id=\"line2d_12\">\n      <g>\n       <use xlink:href=\"#m29997a6e77\" x=\"36.465625\" y=\"83.974156\" style=\"stroke: #000000; stroke-width: 0.8\"/>\n      </g>\n     </g>\n     <g id=\"text_12\">\n      <!-- 0.95 -->\n      <g transform=\"translate(7.2 87.773375)scale(0.1 -0.1)\">\n       <use xlink:href=\"#DejaVuSans-30\"/>\n       <use xlink:href=\"#DejaVuSans-2e\" x=\"63.623047\"/>\n       <use xlink:href=\"#DejaVuSans-39\" x=\"95.410156\"/>\n       <use xlink:href=\"#DejaVuSans-35\" x=\"159.033203\"/>\n      </g>\n     </g>\n    </g>\n    <g id=\"ytick_9\">\n     <g id=\"line2d_13\">\n      <g>\n       <use xlink:href=\"#m29997a6e77\" x=\"36.465625\" y=\"33.236803\" style=\"stroke: #000000; stroke-width: 0.8\"/>\n      </g>\n     </g>\n     <g id=\"text_13\">\n      <!-- 1.00 -->\n      <g transform=\"translate(7.2 37.036022)scale(0.1 -0.1)\">\n       <use xlink:href=\"#DejaVuSans-31\"/>\n       <use xlink:href=\"#DejaVuSans-2e\" x=\"63.623047\"/>\n       <use xlink:href=\"#DejaVuSans-30\" x=\"95.410156\"/>\n       <use xlink:href=\"#DejaVuSans-30\" x=\"159.033203\"/>\n      </g>\n     </g>\n    </g>\n   </g>\n   <g id=\"line2d_14\">\n    <path d=\"M 45.688765 437.430852 \nL 52.049552 295.447444 \nL 58.410339 220.68088 \nL 64.771125 180.415717 \nL 71.131912 157.279484 \nL 77.492698 138.932857 \nL 83.853485 127.242971 \nL 90.214271 117.744939 \nL 96.575058 107.516288 \nL 102.935844 100.04775 \nL 109.296631 95.501683 \nL 115.657418 86.734268 \nL 122.018204 80.645786 \nL 128.378991 77.885674 \nL 134.739777 73.096068 \nL 141.100564 68.468821 \nL 147.46135 64.815732 \nL 153.822137 60.188485 \nL 160.182923 60.837923 \nL 166.54371 55.561239 \nL 172.904496 53.531745 \nL 179.265283 52.151689 \nL 185.62607 48.904498 \nL 191.986856 47.443262 \nL 198.347643 49.148037 \nL 204.708429 45.170229 \nL 211.069216 44.439611 \nL 217.430002 43.140735 \nL 223.790789 42.085398 \nL 230.151575 43.627813 \n\" clip-path=\"url(#p81c21d05ee)\" style=\"fill: none; stroke: #03cea4; stroke-width: 1.5; stroke-linecap: square\"/>\n   </g>\n   <g id=\"line2d_15\">\n    <path d=\"M 45.688765 373.217658 \nL 52.049552 258.104752 \nL 58.410339 212.562904 \nL 64.771125 192.592682 \nL 71.131912 177.168526 \nL 77.492698 164.017404 \nL 83.853485 163.611506 \nL 90.214271 155.006451 \nL 96.575058 151.515721 \nL 102.935844 144.128362 \nL 109.296631 141.36825 \nL 115.657418 137.471621 \nL 122.018204 141.043531 \nL 128.378991 137.228082 \nL 134.739777 137.552801 \nL 141.100564 135.442127 \nL 147.46135 133.980891 \nL 153.822137 132.844375 \nL 160.182923 131.707858 \nL 166.54371 132.763195 \nL 172.904496 130.490162 \nL 179.265283 129.921903 \nL 185.62607 130.327802 \nL 191.986856 130.814881 \nL 198.347643 131.464319 \nL 204.708429 130.89606 \nL 211.069216 128.623027 \nL 217.430002 132.600835 \nL 223.790789 130.571341 \nL 230.151575 130.652521 \n\" clip-path=\"url(#p81c21d05ee)\" style=\"fill: none; stroke: #fc00ff; stroke-width: 1.5; stroke-linecap: square\"/>\n   </g>\n   <g id=\"patch_3\">\n    <path d=\"M 36.465625 457.198125 \nL 36.465625 22.318125 \n\" style=\"fill: none; stroke: #000000; stroke-width: 0.8; stroke-linejoin: miter; stroke-linecap: square\"/>\n   </g>\n   <g id=\"patch_4\">\n    <path d=\"M 239.374716 457.198125 \nL 239.374716 22.318125 \n\" style=\"fill: none; stroke: #000000; stroke-width: 0.8; stroke-linejoin: miter; stroke-linecap: square\"/>\n   </g>\n   <g id=\"patch_5\">\n    <path d=\"M 36.465625 457.198125 \nL 239.374716 457.198125 \n\" style=\"fill: none; stroke: #000000; stroke-width: 0.8; stroke-linejoin: miter; stroke-linecap: square\"/>\n   </g>\n   <g id=\"patch_6\">\n    <path d=\"M 36.465625 22.318125 \nL 239.374716 22.318125 \n\" style=\"fill: none; stroke: #000000; stroke-width: 0.8; stroke-linejoin: miter; stroke-linecap: square\"/>\n   </g>\n   <g id=\"text_14\">\n    <!-- Training and Validation Accuracy -->\n    <g transform=\"translate(40.21767 16.318125)scale(0.12 -0.12)\">\n     <defs>\n      <path id=\"DejaVuSans-54\" d=\"M -19 4666 \nL 3928 4666 \nL 3928 4134 \nL 2272 4134 \nL 2272 0 \nL 1638 0 \nL 1638 4134 \nL -19 4134 \nL -19 4666 \nz\n\" transform=\"scale(0.015625)\"/>\n      <path id=\"DejaVuSans-72\" d=\"M 2631 2963 \nQ 2534 3019 2420 3045 \nQ 2306 3072 2169 3072 \nQ 1681 3072 1420 2755 \nQ 1159 2438 1159 1844 \nL 1159 0 \nL 581 0 \nL 581 3500 \nL 1159 3500 \nL 1159 2956 \nQ 1341 3275 1631 3429 \nQ 1922 3584 2338 3584 \nQ 2397 3584 2469 3576 \nQ 2541 3569 2628 3553 \nL 2631 2963 \nz\n\" transform=\"scale(0.015625)\"/>\n      <path id=\"DejaVuSans-61\" d=\"M 2194 1759 \nQ 1497 1759 1228 1600 \nQ 959 1441 959 1056 \nQ 959 750 1161 570 \nQ 1363 391 1709 391 \nQ 2188 391 2477 730 \nQ 2766 1069 2766 1631 \nL 2766 1759 \nL 2194 1759 \nz\nM 3341 1997 \nL 3341 0 \nL 2766 0 \nL 2766 531 \nQ 2569 213 2275 61 \nQ 1981 -91 1556 -91 \nQ 1019 -91 701 211 \nQ 384 513 384 1019 \nQ 384 1609 779 1909 \nQ 1175 2209 1959 2209 \nL 2766 2209 \nL 2766 2266 \nQ 2766 2663 2505 2880 \nQ 2244 3097 1772 3097 \nQ 1472 3097 1187 3025 \nQ 903 2953 641 2809 \nL 641 3341 \nQ 956 3463 1253 3523 \nQ 1550 3584 1831 3584 \nQ 2591 3584 2966 3190 \nQ 3341 2797 3341 1997 \nz\n\" transform=\"scale(0.015625)\"/>\n      <path id=\"DejaVuSans-69\" d=\"M 603 3500 \nL 1178 3500 \nL 1178 0 \nL 603 0 \nL 603 3500 \nz\nM 603 4863 \nL 1178 4863 \nL 1178 4134 \nL 603 4134 \nL 603 4863 \nz\n\" transform=\"scale(0.015625)\"/>\n      <path id=\"DejaVuSans-6e\" d=\"M 3513 2113 \nL 3513 0 \nL 2938 0 \nL 2938 2094 \nQ 2938 2591 2744 2837 \nQ 2550 3084 2163 3084 \nQ 1697 3084 1428 2787 \nQ 1159 2491 1159 1978 \nL 1159 0 \nL 581 0 \nL 581 3500 \nL 1159 3500 \nL 1159 2956 \nQ 1366 3272 1645 3428 \nQ 1925 3584 2291 3584 \nQ 2894 3584 3203 3211 \nQ 3513 2838 3513 2113 \nz\n\" transform=\"scale(0.015625)\"/>\n      <path id=\"DejaVuSans-67\" d=\"M 2906 1791 \nQ 2906 2416 2648 2759 \nQ 2391 3103 1925 3103 \nQ 1463 3103 1205 2759 \nQ 947 2416 947 1791 \nQ 947 1169 1205 825 \nQ 1463 481 1925 481 \nQ 2391 481 2648 825 \nQ 2906 1169 2906 1791 \nz\nM 3481 434 \nQ 3481 -459 3084 -895 \nQ 2688 -1331 1869 -1331 \nQ 1566 -1331 1297 -1286 \nQ 1028 -1241 775 -1147 \nL 775 -588 \nQ 1028 -725 1275 -790 \nQ 1522 -856 1778 -856 \nQ 2344 -856 2625 -561 \nQ 2906 -266 2906 331 \nL 2906 616 \nQ 2728 306 2450 153 \nQ 2172 0 1784 0 \nQ 1141 0 747 490 \nQ 353 981 353 1791 \nQ 353 2603 747 3093 \nQ 1141 3584 1784 3584 \nQ 2172 3584 2450 3431 \nQ 2728 3278 2906 2969 \nL 2906 3500 \nL 3481 3500 \nL 3481 434 \nz\n\" transform=\"scale(0.015625)\"/>\n      <path id=\"DejaVuSans-20\" transform=\"scale(0.015625)\"/>\n      <path id=\"DejaVuSans-64\" d=\"M 2906 2969 \nL 2906 4863 \nL 3481 4863 \nL 3481 0 \nL 2906 0 \nL 2906 525 \nQ 2725 213 2448 61 \nQ 2172 -91 1784 -91 \nQ 1150 -91 751 415 \nQ 353 922 353 1747 \nQ 353 2572 751 3078 \nQ 1150 3584 1784 3584 \nQ 2172 3584 2448 3432 \nQ 2725 3281 2906 2969 \nz\nM 947 1747 \nQ 947 1113 1208 752 \nQ 1469 391 1925 391 \nQ 2381 391 2643 752 \nQ 2906 1113 2906 1747 \nQ 2906 2381 2643 2742 \nQ 2381 3103 1925 3103 \nQ 1469 3103 1208 2742 \nQ 947 2381 947 1747 \nz\n\" transform=\"scale(0.015625)\"/>\n      <path id=\"DejaVuSans-56\" d=\"M 1831 0 \nL 50 4666 \nL 709 4666 \nL 2188 738 \nL 3669 4666 \nL 4325 4666 \nL 2547 0 \nL 1831 0 \nz\n\" transform=\"scale(0.015625)\"/>\n      <path id=\"DejaVuSans-6c\" d=\"M 603 4863 \nL 1178 4863 \nL 1178 0 \nL 603 0 \nL 603 4863 \nz\n\" transform=\"scale(0.015625)\"/>\n      <path id=\"DejaVuSans-74\" d=\"M 1172 4494 \nL 1172 3500 \nL 2356 3500 \nL 2356 3053 \nL 1172 3053 \nL 1172 1153 \nQ 1172 725 1289 603 \nQ 1406 481 1766 481 \nL 2356 481 \nL 2356 0 \nL 1766 0 \nQ 1100 0 847 248 \nQ 594 497 594 1153 \nL 594 3053 \nL 172 3053 \nL 172 3500 \nL 594 3500 \nL 594 4494 \nL 1172 4494 \nz\n\" transform=\"scale(0.015625)\"/>\n      <path id=\"DejaVuSans-6f\" d=\"M 1959 3097 \nQ 1497 3097 1228 2736 \nQ 959 2375 959 1747 \nQ 959 1119 1226 758 \nQ 1494 397 1959 397 \nQ 2419 397 2687 759 \nQ 2956 1122 2956 1747 \nQ 2956 2369 2687 2733 \nQ 2419 3097 1959 3097 \nz\nM 1959 3584 \nQ 2709 3584 3137 3096 \nQ 3566 2609 3566 1747 \nQ 3566 888 3137 398 \nQ 2709 -91 1959 -91 \nQ 1206 -91 779 398 \nQ 353 888 353 1747 \nQ 353 2609 779 3096 \nQ 1206 3584 1959 3584 \nz\n\" transform=\"scale(0.015625)\"/>\n      <path id=\"DejaVuSans-41\" d=\"M 2188 4044 \nL 1331 1722 \nL 3047 1722 \nL 2188 4044 \nz\nM 1831 4666 \nL 2547 4666 \nL 4325 0 \nL 3669 0 \nL 3244 1197 \nL 1141 1197 \nL 716 0 \nL 50 0 \nL 1831 4666 \nz\n\" transform=\"scale(0.015625)\"/>\n      <path id=\"DejaVuSans-63\" d=\"M 3122 3366 \nL 3122 2828 \nQ 2878 2963 2633 3030 \nQ 2388 3097 2138 3097 \nQ 1578 3097 1268 2742 \nQ 959 2388 959 1747 \nQ 959 1106 1268 751 \nQ 1578 397 2138 397 \nQ 2388 397 2633 464 \nQ 2878 531 3122 666 \nL 3122 134 \nQ 2881 22 2623 -34 \nQ 2366 -91 2075 -91 \nQ 1284 -91 818 406 \nQ 353 903 353 1747 \nQ 353 2603 823 3093 \nQ 1294 3584 2113 3584 \nQ 2378 3584 2631 3529 \nQ 2884 3475 3122 3366 \nz\n\" transform=\"scale(0.015625)\"/>\n      <path id=\"DejaVuSans-75\" d=\"M 544 1381 \nL 544 3500 \nL 1119 3500 \nL 1119 1403 \nQ 1119 906 1312 657 \nQ 1506 409 1894 409 \nQ 2359 409 2629 706 \nQ 2900 1003 2900 1516 \nL 2900 3500 \nL 3475 3500 \nL 3475 0 \nL 2900 0 \nL 2900 538 \nQ 2691 219 2414 64 \nQ 2138 -91 1772 -91 \nQ 1169 -91 856 284 \nQ 544 659 544 1381 \nz\nM 1991 3584 \nL 1991 3584 \nz\n\" transform=\"scale(0.015625)\"/>\n      <path id=\"DejaVuSans-79\" d=\"M 2059 -325 \nQ 1816 -950 1584 -1140 \nQ 1353 -1331 966 -1331 \nL 506 -1331 \nL 506 -850 \nL 844 -850 \nQ 1081 -850 1212 -737 \nQ 1344 -625 1503 -206 \nL 1606 56 \nL 191 3500 \nL 800 3500 \nL 1894 763 \nL 2988 3500 \nL 3597 3500 \nL 2059 -325 \nz\n\" transform=\"scale(0.015625)\"/>\n     </defs>\n     <use xlink:href=\"#DejaVuSans-54\"/>\n     <use xlink:href=\"#DejaVuSans-72\" x=\"46.333984\"/>\n     <use xlink:href=\"#DejaVuSans-61\" x=\"87.447266\"/>\n     <use xlink:href=\"#DejaVuSans-69\" x=\"148.726562\"/>\n     <use xlink:href=\"#DejaVuSans-6e\" x=\"176.509766\"/>\n     <use xlink:href=\"#DejaVuSans-69\" x=\"239.888672\"/>\n     <use xlink:href=\"#DejaVuSans-6e\" x=\"267.671875\"/>\n     <use xlink:href=\"#DejaVuSans-67\" x=\"331.050781\"/>\n     <use xlink:href=\"#DejaVuSans-20\" x=\"394.527344\"/>\n     <use xlink:href=\"#DejaVuSans-61\" x=\"426.314453\"/>\n     <use xlink:href=\"#DejaVuSans-6e\" x=\"487.59375\"/>\n     <use xlink:href=\"#DejaVuSans-64\" x=\"550.972656\"/>\n     <use xlink:href=\"#DejaVuSans-20\" x=\"614.449219\"/>\n     <use xlink:href=\"#DejaVuSans-56\" x=\"646.236328\"/>\n     <use xlink:href=\"#DejaVuSans-61\" x=\"706.894531\"/>\n     <use xlink:href=\"#DejaVuSans-6c\" x=\"768.173828\"/>\n     <use xlink:href=\"#DejaVuSans-69\" x=\"795.957031\"/>\n     <use xlink:href=\"#DejaVuSans-64\" x=\"823.740234\"/>\n     <use xlink:href=\"#DejaVuSans-61\" x=\"887.216797\"/>\n     <use xlink:href=\"#DejaVuSans-74\" x=\"948.496094\"/>\n     <use xlink:href=\"#DejaVuSans-69\" x=\"987.705078\"/>\n     <use xlink:href=\"#DejaVuSans-6f\" x=\"1015.488281\"/>\n     <use xlink:href=\"#DejaVuSans-6e\" x=\"1076.669922\"/>\n     <use xlink:href=\"#DejaVuSans-20\" x=\"1140.048828\"/>\n     <use xlink:href=\"#DejaVuSans-41\" x=\"1171.835938\"/>\n     <use xlink:href=\"#DejaVuSans-63\" x=\"1238.494141\"/>\n     <use xlink:href=\"#DejaVuSans-63\" x=\"1293.474609\"/>\n     <use xlink:href=\"#DejaVuSans-75\" x=\"1348.455078\"/>\n     <use xlink:href=\"#DejaVuSans-72\" x=\"1411.833984\"/>\n     <use xlink:href=\"#DejaVuSans-61\" x=\"1452.947266\"/>\n     <use xlink:href=\"#DejaVuSans-63\" x=\"1514.226562\"/>\n     <use xlink:href=\"#DejaVuSans-79\" x=\"1569.207031\"/>\n    </g>\n   </g>\n   <g id=\"legend_1\">\n    <g id=\"patch_7\">\n     <path d=\"M 102.159091 452.198125 \nL 232.374716 452.198125 \nQ 234.374716 452.198125 234.374716 450.198125 \nL 234.374716 421.841875 \nQ 234.374716 419.841875 232.374716 419.841875 \nL 102.159091 419.841875 \nQ 100.159091 419.841875 100.159091 421.841875 \nL 100.159091 450.198125 \nQ 100.159091 452.198125 102.159091 452.198125 \nz\n\" style=\"fill: #ffffff; opacity: 0.8; stroke: #cccccc; stroke-linejoin: miter\"/>\n    </g>\n    <g id=\"line2d_16\">\n     <path d=\"M 104.159091 427.940312 \nL 114.159091 427.940312 \nL 124.159091 427.940312 \n\" style=\"fill: none; stroke: #03cea4; stroke-width: 1.5; stroke-linecap: square\"/>\n    </g>\n    <g id=\"text_15\">\n     <!-- Training Accuracy -->\n     <g transform=\"translate(132.159091 431.440312)scale(0.1 -0.1)\">\n      <use xlink:href=\"#DejaVuSans-54\"/>\n      <use xlink:href=\"#DejaVuSans-72\" x=\"46.333984\"/>\n      <use xlink:href=\"#DejaVuSans-61\" x=\"87.447266\"/>\n      <use xlink:href=\"#DejaVuSans-69\" x=\"148.726562\"/>\n      <use xlink:href=\"#DejaVuSans-6e\" x=\"176.509766\"/>\n      <use xlink:href=\"#DejaVuSans-69\" x=\"239.888672\"/>\n      <use xlink:href=\"#DejaVuSans-6e\" x=\"267.671875\"/>\n      <use xlink:href=\"#DejaVuSans-67\" x=\"331.050781\"/>\n      <use xlink:href=\"#DejaVuSans-20\" x=\"394.527344\"/>\n      <use xlink:href=\"#DejaVuSans-41\" x=\"426.314453\"/>\n      <use xlink:href=\"#DejaVuSans-63\" x=\"492.972656\"/>\n      <use xlink:href=\"#DejaVuSans-63\" x=\"547.953125\"/>\n      <use xlink:href=\"#DejaVuSans-75\" x=\"602.933594\"/>\n      <use xlink:href=\"#DejaVuSans-72\" x=\"666.3125\"/>\n      <use xlink:href=\"#DejaVuSans-61\" x=\"707.425781\"/>\n      <use xlink:href=\"#DejaVuSans-63\" x=\"768.705078\"/>\n      <use xlink:href=\"#DejaVuSans-79\" x=\"823.685547\"/>\n     </g>\n    </g>\n    <g id=\"line2d_17\">\n     <path d=\"M 104.159091 442.618437 \nL 114.159091 442.618437 \nL 124.159091 442.618437 \n\" style=\"fill: none; stroke: #fc00ff; stroke-width: 1.5; stroke-linecap: square\"/>\n    </g>\n    <g id=\"text_16\">\n     <!-- Validation Accuracy -->\n     <g transform=\"translate(132.159091 446.118437)scale(0.1 -0.1)\">\n      <use xlink:href=\"#DejaVuSans-56\"/>\n      <use xlink:href=\"#DejaVuSans-61\" x=\"60.658203\"/>\n      <use xlink:href=\"#DejaVuSans-6c\" x=\"121.9375\"/>\n      <use xlink:href=\"#DejaVuSans-69\" x=\"149.720703\"/>\n      <use xlink:href=\"#DejaVuSans-64\" x=\"177.503906\"/>\n      <use xlink:href=\"#DejaVuSans-61\" x=\"240.980469\"/>\n      <use xlink:href=\"#DejaVuSans-74\" x=\"302.259766\"/>\n      <use xlink:href=\"#DejaVuSans-69\" x=\"341.46875\"/>\n      <use xlink:href=\"#DejaVuSans-6f\" x=\"369.251953\"/>\n      <use xlink:href=\"#DejaVuSans-6e\" x=\"430.433594\"/>\n      <use xlink:href=\"#DejaVuSans-20\" x=\"493.8125\"/>\n      <use xlink:href=\"#DejaVuSans-41\" x=\"525.599609\"/>\n      <use xlink:href=\"#DejaVuSans-63\" x=\"592.257812\"/>\n      <use xlink:href=\"#DejaVuSans-63\" x=\"647.238281\"/>\n      <use xlink:href=\"#DejaVuSans-75\" x=\"702.21875\"/>\n      <use xlink:href=\"#DejaVuSans-72\" x=\"765.597656\"/>\n      <use xlink:href=\"#DejaVuSans-61\" x=\"806.710938\"/>\n      <use xlink:href=\"#DejaVuSans-63\" x=\"867.990234\"/>\n      <use xlink:href=\"#DejaVuSans-79\" x=\"922.970703\"/>\n     </g>\n    </g>\n   </g>\n  </g>\n  <g id=\"axes_2\">\n   <g id=\"patch_8\">\n    <path d=\"M 279.956534 457.198125 \nL 482.865625 457.198125 \nL 482.865625 22.318125 \nL 279.956534 22.318125 \nz\n\" style=\"fill: #ffffff\"/>\n   </g>\n   <g id=\"matplotlib.axis_3\">\n    <g id=\"xtick_5\">\n     <g id=\"line2d_18\">\n      <g>\n       <use xlink:href=\"#m924c8c9dac\" x=\"289.179675\" y=\"457.198125\" style=\"stroke: #000000; stroke-width: 0.8\"/>\n      </g>\n     </g>\n     <g id=\"text_17\">\n      <!-- 0 -->\n      <g transform=\"translate(285.998425 471.796562)scale(0.1 -0.1)\">\n       <use xlink:href=\"#DejaVuSans-30\"/>\n      </g>\n     </g>\n    </g>\n    <g id=\"xtick_6\">\n     <g id=\"line2d_19\">\n      <g>\n       <use xlink:href=\"#m924c8c9dac\" x=\"352.78754\" y=\"457.198125\" style=\"stroke: #000000; stroke-width: 0.8\"/>\n      </g>\n     </g>\n     <g id=\"text_18\">\n      <!-- 10 -->\n      <g transform=\"translate(346.42504 471.796562)scale(0.1 -0.1)\">\n       <use xlink:href=\"#DejaVuSans-31\"/>\n       <use xlink:href=\"#DejaVuSans-30\" x=\"63.623047\"/>\n      </g>\n     </g>\n    </g>\n    <g id=\"xtick_7\">\n     <g id=\"line2d_20\">\n      <g>\n       <use xlink:href=\"#m924c8c9dac\" x=\"416.395406\" y=\"457.198125\" style=\"stroke: #000000; stroke-width: 0.8\"/>\n      </g>\n     </g>\n     <g id=\"text_19\">\n      <!-- 20 -->\n      <g transform=\"translate(410.032906 471.796562)scale(0.1 -0.1)\">\n       <use xlink:href=\"#DejaVuSans-32\"/>\n       <use xlink:href=\"#DejaVuSans-30\" x=\"63.623047\"/>\n      </g>\n     </g>\n    </g>\n    <g id=\"xtick_8\">\n     <g id=\"line2d_21\">\n      <g>\n       <use xlink:href=\"#m924c8c9dac\" x=\"480.003271\" y=\"457.198125\" style=\"stroke: #000000; stroke-width: 0.8\"/>\n      </g>\n     </g>\n     <g id=\"text_20\">\n      <!-- 30 -->\n      <g transform=\"translate(473.640771 471.796562)scale(0.1 -0.1)\">\n       <use xlink:href=\"#DejaVuSans-33\"/>\n       <use xlink:href=\"#DejaVuSans-30\" x=\"63.623047\"/>\n      </g>\n     </g>\n    </g>\n   </g>\n   <g id=\"matplotlib.axis_4\">\n    <g id=\"ytick_10\">\n     <g id=\"line2d_22\">\n      <g>\n       <use xlink:href=\"#m29997a6e77\" x=\"279.956534\" y=\"438.050071\" style=\"stroke: #000000; stroke-width: 0.8\"/>\n      </g>\n     </g>\n     <g id=\"text_21\">\n      <!-- 0.0 -->\n      <g transform=\"translate(257.053409 441.84929)scale(0.1 -0.1)\">\n       <use xlink:href=\"#DejaVuSans-30\"/>\n       <use xlink:href=\"#DejaVuSans-2e\" x=\"63.623047\"/>\n       <use xlink:href=\"#DejaVuSans-30\" x=\"95.410156\"/>\n      </g>\n     </g>\n    </g>\n    <g id=\"ytick_11\">\n     <g id=\"line2d_23\">\n      <g>\n       <use xlink:href=\"#m29997a6e77\" x=\"279.956534\" y=\"376.371502\" style=\"stroke: #000000; stroke-width: 0.8\"/>\n      </g>\n     </g>\n     <g id=\"text_22\">\n      <!-- 0.1 -->\n      <g transform=\"translate(257.053409 380.170721)scale(0.1 -0.1)\">\n       <use xlink:href=\"#DejaVuSans-30\"/>\n       <use xlink:href=\"#DejaVuSans-2e\" x=\"63.623047\"/>\n       <use xlink:href=\"#DejaVuSans-31\" x=\"95.410156\"/>\n      </g>\n     </g>\n    </g>\n    <g id=\"ytick_12\">\n     <g id=\"line2d_24\">\n      <g>\n       <use xlink:href=\"#m29997a6e77\" x=\"279.956534\" y=\"314.692934\" style=\"stroke: #000000; stroke-width: 0.8\"/>\n      </g>\n     </g>\n     <g id=\"text_23\">\n      <!-- 0.2 -->\n      <g transform=\"translate(257.053409 318.492153)scale(0.1 -0.1)\">\n       <use xlink:href=\"#DejaVuSans-30\"/>\n       <use xlink:href=\"#DejaVuSans-2e\" x=\"63.623047\"/>\n       <use xlink:href=\"#DejaVuSans-32\" x=\"95.410156\"/>\n      </g>\n     </g>\n    </g>\n    <g id=\"ytick_13\">\n     <g id=\"line2d_25\">\n      <g>\n       <use xlink:href=\"#m29997a6e77\" x=\"279.956534\" y=\"253.014365\" style=\"stroke: #000000; stroke-width: 0.8\"/>\n      </g>\n     </g>\n     <g id=\"text_24\">\n      <!-- 0.3 -->\n      <g transform=\"translate(257.053409 256.813584)scale(0.1 -0.1)\">\n       <use xlink:href=\"#DejaVuSans-30\"/>\n       <use xlink:href=\"#DejaVuSans-2e\" x=\"63.623047\"/>\n       <use xlink:href=\"#DejaVuSans-33\" x=\"95.410156\"/>\n      </g>\n     </g>\n    </g>\n    <g id=\"ytick_14\">\n     <g id=\"line2d_26\">\n      <g>\n       <use xlink:href=\"#m29997a6e77\" x=\"279.956534\" y=\"191.335797\" style=\"stroke: #000000; stroke-width: 0.8\"/>\n      </g>\n     </g>\n     <g id=\"text_25\">\n      <!-- 0.4 -->\n      <g transform=\"translate(257.053409 195.135016)scale(0.1 -0.1)\">\n       <defs>\n        <path id=\"DejaVuSans-34\" d=\"M 2419 4116 \nL 825 1625 \nL 2419 1625 \nL 2419 4116 \nz\nM 2253 4666 \nL 3047 4666 \nL 3047 1625 \nL 3713 1625 \nL 3713 1100 \nL 3047 1100 \nL 3047 0 \nL 2419 0 \nL 2419 1100 \nL 313 1100 \nL 313 1709 \nL 2253 4666 \nz\n\" transform=\"scale(0.015625)\"/>\n       </defs>\n       <use xlink:href=\"#DejaVuSans-30\"/>\n       <use xlink:href=\"#DejaVuSans-2e\" x=\"63.623047\"/>\n       <use xlink:href=\"#DejaVuSans-34\" x=\"95.410156\"/>\n      </g>\n     </g>\n    </g>\n    <g id=\"ytick_15\">\n     <g id=\"line2d_27\">\n      <g>\n       <use xlink:href=\"#m29997a6e77\" x=\"279.956534\" y=\"129.657228\" style=\"stroke: #000000; stroke-width: 0.8\"/>\n      </g>\n     </g>\n     <g id=\"text_26\">\n      <!-- 0.5 -->\n      <g transform=\"translate(257.053409 133.456447)scale(0.1 -0.1)\">\n       <use xlink:href=\"#DejaVuSans-30\"/>\n       <use xlink:href=\"#DejaVuSans-2e\" x=\"63.623047\"/>\n       <use xlink:href=\"#DejaVuSans-35\" x=\"95.410156\"/>\n      </g>\n     </g>\n    </g>\n    <g id=\"ytick_16\">\n     <g id=\"line2d_28\">\n      <g>\n       <use xlink:href=\"#m29997a6e77\" x=\"279.956534\" y=\"67.97866\" style=\"stroke: #000000; stroke-width: 0.8\"/>\n      </g>\n     </g>\n     <g id=\"text_27\">\n      <!-- 0.6 -->\n      <g transform=\"translate(257.053409 71.777879)scale(0.1 -0.1)\">\n       <use xlink:href=\"#DejaVuSans-30\"/>\n       <use xlink:href=\"#DejaVuSans-2e\" x=\"63.623047\"/>\n       <use xlink:href=\"#DejaVuSans-36\" x=\"95.410156\"/>\n      </g>\n     </g>\n    </g>\n   </g>\n   <g id=\"line2d_29\">\n    <path d=\"M 289.179675 425.045811 \nL 295.540461 426.988624 \nL 301.901248 429.342422 \nL 308.262034 430.956908 \nL 314.622821 431.981056 \nL 320.983607 432.720099 \nL 327.344394 433.267149 \nL 333.70518 433.783142 \nL 340.065967 434.184815 \nL 346.426754 434.529801 \nL 352.78754 434.838549 \nL 359.148327 435.130592 \nL 365.509113 435.388744 \nL 371.8699 435.593069 \nL 378.230686 435.831169 \nL 384.591473 436.018118 \nL 390.952259 436.169047 \nL 397.313046 436.316938 \nL 403.673832 436.445195 \nL 410.034619 436.615856 \nL 416.395406 436.74403 \nL 422.756192 436.840763 \nL 429.116979 436.97796 \nL 435.477765 437.066392 \nL 441.838552 437.059309 \nL 448.199338 437.209457 \nL 454.560125 437.277428 \nL 460.920911 437.335441 \nL 467.281698 437.428132 \nL 473.642485 437.430852 \n\" clip-path=\"url(#p1645fbd7de)\" style=\"fill: none; stroke: #03cea4; stroke-width: 1.5; stroke-linecap: square\"/>\n   </g>\n   <g id=\"line2d_30\">\n    <path d=\"M 289.179675 42.085398 \nL 295.540461 120.105295 \nL 301.901248 175.473109 \nL 308.262034 207.803056 \nL 314.622821 231.367104 \nL 320.983607 244.211897 \nL 327.344394 247.172702 \nL 333.70518 258.799268 \nL 340.065967 264.258381 \nL 346.426754 270.180575 \nL 352.78754 274.001102 \nL 359.148327 273.525339 \nL 365.509113 272.442422 \nL 371.8699 272.785376 \nL 378.230686 267.507373 \nL 384.591473 268.491339 \nL 390.952259 266.225085 \nL 397.313046 265.119456 \nL 403.673832 263.938085 \nL 410.034619 256.731119 \nL 416.395406 259.039877 \nL 422.756192 247.328498 \nL 429.116979 245.258596 \nL 435.477765 236.259296 \nL 441.838552 234.743278 \nL 448.199338 228.837678 \nL 454.560125 213.491669 \nL 460.920911 206.950486 \nL 467.281698 198.451631 \nL 473.642485 180.503228 \n\" clip-path=\"url(#p1645fbd7de)\" style=\"fill: none; stroke: #fc00ff; stroke-width: 1.5; stroke-linecap: square\"/>\n   </g>\n   <g id=\"patch_9\">\n    <path d=\"M 279.956534 457.198125 \nL 279.956534 22.318125 \n\" style=\"fill: none; stroke: #000000; stroke-width: 0.8; stroke-linejoin: miter; stroke-linecap: square\"/>\n   </g>\n   <g id=\"patch_10\">\n    <path d=\"M 482.865625 457.198125 \nL 482.865625 22.318125 \n\" style=\"fill: none; stroke: #000000; stroke-width: 0.8; stroke-linejoin: miter; stroke-linecap: square\"/>\n   </g>\n   <g id=\"patch_11\">\n    <path d=\"M 279.956534 457.198125 \nL 482.865625 457.198125 \n\" style=\"fill: none; stroke: #000000; stroke-width: 0.8; stroke-linejoin: miter; stroke-linecap: square\"/>\n   </g>\n   <g id=\"patch_12\">\n    <path d=\"M 279.956534 22.318125 \nL 482.865625 22.318125 \n\" style=\"fill: none; stroke: #000000; stroke-width: 0.8; stroke-linejoin: miter; stroke-linecap: square\"/>\n   </g>\n   <g id=\"text_28\">\n    <!-- Training and Validation Loss -->\n    <g transform=\"translate(297.941705 16.318125)scale(0.12 -0.12)\">\n     <defs>\n      <path id=\"DejaVuSans-4c\" d=\"M 628 4666 \nL 1259 4666 \nL 1259 531 \nL 3531 531 \nL 3531 0 \nL 628 0 \nL 628 4666 \nz\n\" transform=\"scale(0.015625)\"/>\n      <path id=\"DejaVuSans-73\" d=\"M 2834 3397 \nL 2834 2853 \nQ 2591 2978 2328 3040 \nQ 2066 3103 1784 3103 \nQ 1356 3103 1142 2972 \nQ 928 2841 928 2578 \nQ 928 2378 1081 2264 \nQ 1234 2150 1697 2047 \nL 1894 2003 \nQ 2506 1872 2764 1633 \nQ 3022 1394 3022 966 \nQ 3022 478 2636 193 \nQ 2250 -91 1575 -91 \nQ 1294 -91 989 -36 \nQ 684 19 347 128 \nL 347 722 \nQ 666 556 975 473 \nQ 1284 391 1588 391 \nQ 1994 391 2212 530 \nQ 2431 669 2431 922 \nQ 2431 1156 2273 1281 \nQ 2116 1406 1581 1522 \nL 1381 1569 \nQ 847 1681 609 1914 \nQ 372 2147 372 2553 \nQ 372 3047 722 3315 \nQ 1072 3584 1716 3584 \nQ 2034 3584 2315 3537 \nQ 2597 3491 2834 3397 \nz\n\" transform=\"scale(0.015625)\"/>\n     </defs>\n     <use xlink:href=\"#DejaVuSans-54\"/>\n     <use xlink:href=\"#DejaVuSans-72\" x=\"46.333984\"/>\n     <use xlink:href=\"#DejaVuSans-61\" x=\"87.447266\"/>\n     <use xlink:href=\"#DejaVuSans-69\" x=\"148.726562\"/>\n     <use xlink:href=\"#DejaVuSans-6e\" x=\"176.509766\"/>\n     <use xlink:href=\"#DejaVuSans-69\" x=\"239.888672\"/>\n     <use xlink:href=\"#DejaVuSans-6e\" x=\"267.671875\"/>\n     <use xlink:href=\"#DejaVuSans-67\" x=\"331.050781\"/>\n     <use xlink:href=\"#DejaVuSans-20\" x=\"394.527344\"/>\n     <use xlink:href=\"#DejaVuSans-61\" x=\"426.314453\"/>\n     <use xlink:href=\"#DejaVuSans-6e\" x=\"487.59375\"/>\n     <use xlink:href=\"#DejaVuSans-64\" x=\"550.972656\"/>\n     <use xlink:href=\"#DejaVuSans-20\" x=\"614.449219\"/>\n     <use xlink:href=\"#DejaVuSans-56\" x=\"646.236328\"/>\n     <use xlink:href=\"#DejaVuSans-61\" x=\"706.894531\"/>\n     <use xlink:href=\"#DejaVuSans-6c\" x=\"768.173828\"/>\n     <use xlink:href=\"#DejaVuSans-69\" x=\"795.957031\"/>\n     <use xlink:href=\"#DejaVuSans-64\" x=\"823.740234\"/>\n     <use xlink:href=\"#DejaVuSans-61\" x=\"887.216797\"/>\n     <use xlink:href=\"#DejaVuSans-74\" x=\"948.496094\"/>\n     <use xlink:href=\"#DejaVuSans-69\" x=\"987.705078\"/>\n     <use xlink:href=\"#DejaVuSans-6f\" x=\"1015.488281\"/>\n     <use xlink:href=\"#DejaVuSans-6e\" x=\"1076.669922\"/>\n     <use xlink:href=\"#DejaVuSans-20\" x=\"1140.048828\"/>\n     <use xlink:href=\"#DejaVuSans-4c\" x=\"1171.835938\"/>\n     <use xlink:href=\"#DejaVuSans-6f\" x=\"1225.798828\"/>\n     <use xlink:href=\"#DejaVuSans-73\" x=\"1286.980469\"/>\n     <use xlink:href=\"#DejaVuSans-73\" x=\"1339.080078\"/>\n    </g>\n   </g>\n   <g id=\"legend_2\">\n    <g id=\"patch_13\">\n     <path d=\"M 286.956534 452.198125 \nL 393.450284 452.198125 \nQ 395.450284 452.198125 395.450284 450.198125 \nL 395.450284 421.841875 \nQ 395.450284 419.841875 393.450284 419.841875 \nL 286.956534 419.841875 \nQ 284.956534 419.841875 284.956534 421.841875 \nL 284.956534 450.198125 \nQ 284.956534 452.198125 286.956534 452.198125 \nz\n\" style=\"fill: #ffffff; opacity: 0.8; stroke: #cccccc; stroke-linejoin: miter\"/>\n    </g>\n    <g id=\"line2d_31\">\n     <path d=\"M 288.956534 427.940312 \nL 298.956534 427.940312 \nL 308.956534 427.940312 \n\" style=\"fill: none; stroke: #03cea4; stroke-width: 1.5; stroke-linecap: square\"/>\n    </g>\n    <g id=\"text_29\">\n     <!-- Training Loss -->\n     <g transform=\"translate(316.956534 431.440312)scale(0.1 -0.1)\">\n      <use xlink:href=\"#DejaVuSans-54\"/>\n      <use xlink:href=\"#DejaVuSans-72\" x=\"46.333984\"/>\n      <use xlink:href=\"#DejaVuSans-61\" x=\"87.447266\"/>\n      <use xlink:href=\"#DejaVuSans-69\" x=\"148.726562\"/>\n      <use xlink:href=\"#DejaVuSans-6e\" x=\"176.509766\"/>\n      <use xlink:href=\"#DejaVuSans-69\" x=\"239.888672\"/>\n      <use xlink:href=\"#DejaVuSans-6e\" x=\"267.671875\"/>\n      <use xlink:href=\"#DejaVuSans-67\" x=\"331.050781\"/>\n      <use xlink:href=\"#DejaVuSans-20\" x=\"394.527344\"/>\n      <use xlink:href=\"#DejaVuSans-4c\" x=\"426.314453\"/>\n      <use xlink:href=\"#DejaVuSans-6f\" x=\"480.277344\"/>\n      <use xlink:href=\"#DejaVuSans-73\" x=\"541.458984\"/>\n      <use xlink:href=\"#DejaVuSans-73\" x=\"593.558594\"/>\n     </g>\n    </g>\n    <g id=\"line2d_32\">\n     <path d=\"M 288.956534 442.618437 \nL 298.956534 442.618437 \nL 308.956534 442.618437 \n\" style=\"fill: none; stroke: #fc00ff; stroke-width: 1.5; stroke-linecap: square\"/>\n    </g>\n    <g id=\"text_30\">\n     <!-- Validation Loss -->\n     <g transform=\"translate(316.956534 446.118437)scale(0.1 -0.1)\">\n      <use xlink:href=\"#DejaVuSans-56\"/>\n      <use xlink:href=\"#DejaVuSans-61\" x=\"60.658203\"/>\n      <use xlink:href=\"#DejaVuSans-6c\" x=\"121.9375\"/>\n      <use xlink:href=\"#DejaVuSans-69\" x=\"149.720703\"/>\n      <use xlink:href=\"#DejaVuSans-64\" x=\"177.503906\"/>\n      <use xlink:href=\"#DejaVuSans-61\" x=\"240.980469\"/>\n      <use xlink:href=\"#DejaVuSans-74\" x=\"302.259766\"/>\n      <use xlink:href=\"#DejaVuSans-69\" x=\"341.46875\"/>\n      <use xlink:href=\"#DejaVuSans-6f\" x=\"369.251953\"/>\n      <use xlink:href=\"#DejaVuSans-6e\" x=\"430.433594\"/>\n      <use xlink:href=\"#DejaVuSans-20\" x=\"493.8125\"/>\n      <use xlink:href=\"#DejaVuSans-4c\" x=\"525.599609\"/>\n      <use xlink:href=\"#DejaVuSans-6f\" x=\"579.5625\"/>\n      <use xlink:href=\"#DejaVuSans-73\" x=\"640.744141\"/>\n      <use xlink:href=\"#DejaVuSans-73\" x=\"692.84375\"/>\n     </g>\n    </g>\n   </g>\n  </g>\n </g>\n <defs>\n  <clipPath id=\"p81c21d05ee\">\n   <rect x=\"36.465625\" y=\"22.318125\" width=\"202.909091\" height=\"434.88\"/>\n  </clipPath>\n  <clipPath id=\"p1645fbd7de\">\n   <rect x=\"279.956534\" y=\"22.318125\" width=\"202.909091\" height=\"434.88\"/>\n  </clipPath>\n </defs>\n</svg>\n",
      "text/plain": [
       "<Figure size 576x576 with 2 Axes>"
      ]
     },
     "metadata": {
      "needs_background": "light"
     },
     "output_type": "display_data"
    }
   ],
   "source": [
    "epochs_range = range(epochs)\n",
    "\n",
    "plt.figure(figsize=(8, 8))\n",
    "plt.subplot(1, 2, 1)\n",
    "plt.plot(epochs_range, history['train_accuracy'], label='Training Accuracy', color='#03CEA4')\n",
    "plt.plot(epochs_range, history['test_accuracy'], label='Validation Accuracy', color='#fc00ff')\n",
    "plt.legend(loc='lower right')\n",
    "plt.title('Training and Validation Accuracy')\n",
    "\n",
    "plt.subplot(1, 2, 2)\n",
    "plt.plot(epochs_range, history['train_loss'], label='Training Loss', color='#03CEA4')\n",
    "plt.plot(epochs_range, history['test_loss'], label='Validation Loss', color='#fc00ff')\n",
    "plt.legend(loc='lower left')\n",
    "plt.title('Training and Validation Loss')\n",
    "plt.show()\n"
   ]
  },
  {
   "cell_type": "code",
   "execution_count": null,
   "metadata": {},
   "outputs": [],
   "source": []
  }
 ],
 "metadata": {
  "interpreter": {
   "hash": "094e8a46ce80198b332a0d589ece882cd007e3d7e6ab8ab343ba7511982fe530"
  },
  "kernelspec": {
   "display_name": "Python 3.8.10 ('torch-venv': venv)",
   "language": "python",
   "name": "python3"
  },
  "language_info": {
   "codemirror_mode": {
    "name": "ipython",
    "version": 3
   },
   "file_extension": ".py",
   "mimetype": "text/x-python",
   "name": "python",
   "nbconvert_exporter": "python",
   "pygments_lexer": "ipython3",
   "version": "3.10.6 (main, Nov 14 2022, 16:10:14) [GCC 11.3.0]"
  },
  "orig_nbformat": 4
 },
 "nbformat": 4,
 "nbformat_minor": 2
}
