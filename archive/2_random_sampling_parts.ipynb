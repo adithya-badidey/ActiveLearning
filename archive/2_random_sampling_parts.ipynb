{
 "cells": [
  {
   "cell_type": "code",
   "execution_count": 1,
   "metadata": {},
   "outputs": [
    {
     "name": "stdout",
     "output_type": "stream",
     "text": [
      "Pytorch: \t\t 1.10.2+cu102\n",
      "GPU:         \t\t NVIDIA GeForce GTX 1660 Ti\n",
      "Memory Usage:\t 0.0 GB /  0.0 GB\n"
     ]
    }
   ],
   "source": [
    "import torch\n",
    "import numpy as np\n",
    "import matplotlib.pyplot as plt\n",
    "import seaborn as sns\n",
    "import pathlib\n",
    "import os\n",
    "import torchtext\n",
    "from torch.utils.data import DataLoader, random_split\n",
    "from tqdm import tqdm\n",
    "import random\n",
    "import pandas as pd\n",
    "\n",
    "debug = False\n",
    "\n",
    "print(\"Pytorch: \\t\\t\", torch.__version__)\n",
    "if not debug and torch.cuda.is_available():\n",
    "    device='cuda'\n",
    "    print('GPU:         \\t\\t', torch.cuda.get_device_name(0))\n",
    "    print('Memory Usage:\\t',\n",
    "        round(torch.cuda.memory_allocated(0)/1024**3,1), 'GB / ',\n",
    "        round(torch.cuda.memory_reserved(0)/1024**3,1), 'GB')\n",
    "    \n",
    "    torch.backends.cudnn.benchmark = True\n",
    "else:\n",
    "    print(\"GPU is **not available**\")\n",
    "    device='cpu'"
   ]
  },
  {
   "cell_type": "code",
   "execution_count": 2,
   "metadata": {},
   "outputs": [],
   "source": [
    "# Initializing parameters\n",
    "\n",
    "batch_size = 32     # Reduce this if you get memory errors\n",
    "\n",
    "seed = 2476          # A random seed to get replicable results\n",
    "\n",
    "sequence_max_length = 250\n",
    "\n",
    "vocab_size = 10000"
   ]
  },
  {
   "cell_type": "code",
   "execution_count": 3,
   "metadata": {},
   "outputs": [
    {
     "name": "stdout",
     "output_type": "stream",
     "text": [
      "Found the 'aclImdb_v1' dataset.\n"
     ]
    }
   ],
   "source": [
    "data_dir = pathlib.Path('/home/addy/datasets/aclImdb_v1/')\n",
    "\n",
    "if data_dir.exists():\n",
    "    print(\"Found the 'aclImdb_v1' dataset.\")\n",
    "else:\n",
    "    print(\"Downloading the 'aclImdb_v1' dataset.\")\n",
    "    dataset_url = \"http://ai.stanford.edu/~amaas/data/sentiment/aclImdb_v1.tar.gz\"\n",
    "    !wget {dataset_url} -P {data_dir.parent}\n",
    "    !mkdir {data_dir}\n",
    "    !tar xf {data_dir.parent / \"aclImdb_v1.tar.gz\"} -C {data_dir}\n",
    "    !mv {data_dir / 'train' / 'unsup'} {data_dir / 'unsup'}\n",
    "data_dir = data_dir / 'aclImdb'\n"
   ]
  },
  {
   "cell_type": "code",
   "execution_count": 4,
   "metadata": {},
   "outputs": [],
   "source": [
    "class DFDataset(torch.utils.data.Dataset):\n",
    "    def __init__(self, dataframe):\n",
    "        self.df = dataframe\n",
    "\n",
    "    def __len__(self):\n",
    "        return len(self.df)\n",
    "\n",
    "    def __getitem__(self, index):\n",
    "        res = list(self.df.iloc[index])\n",
    "        res.append(index)\n",
    "        return res\n",
    "\n",
    "    def add_new_df(self, new_df):\n",
    "        self.df = self.df.append(new_df, ignore_index=True)"
   ]
  },
  {
   "cell_type": "code",
   "execution_count": 5,
   "metadata": {},
   "outputs": [
    {
     "name": "stdout",
     "output_type": "stream",
     "text": [
      "0\n",
      "\n",
      "('pos', 'A raw edgy thriller that aimed for great philosophical heights it couldn\\'t quite attain. I did still enjoy the film immensely. It had great elements of suspense, leaving me with that delightful spine chill I expect from thrillers, and it achieved this purely psychologically, without resorting to escalating blood and gore. The soundtrack and setting added to the suspense perfectly. At times, it was a bit unpolished, particularly the acting, and character development. It could only have been a better film if we had known more about the nightmares from the past the characters see when they close their eyes, and why they felt this desperate need to seek the \"answer\" that is so integral to the storyline. After all they seemed to continue to seek it, despite knowing or at least having an inkling of what might happen when they found it. I would recommend seeing this film if you are prepared to look beyond the grit to see the potential of a diamond in the rough.')\n",
      "\n",
      "('pos', \"Death in Venice is a movie I need to see once every ten years. It is always different, because I am always at a different stage of life.The movie is about art, beauty, longing, death. Some scenes are painfully slow, others simply annoying to watch, especially if you have seem them before. Yet I would not want to miss a single frame. The music is repetitive, the main theme of the adagietto from Mahler's fifth is used again and again. Yet I would not want to miss a single note. When the last image fades, the last note dies, I am left numb and exhausted.This movie is a monument to film making. As with most really good movies, the saturday evening crowd should stay away from it. And this is simply the best movie ever.\")\n",
      "\n"
     ]
    },
    {
     "data": {
      "text/plain": [
       "(0, 12500, 37500)"
      ]
     },
     "execution_count": 5,
     "metadata": {},
     "output_type": "execute_result"
    }
   ],
   "source": [
    "def cleanup(data):\n",
    "    return data.replace('<br />', '')\n",
    "\n",
    "test_dir = data_dir / 'test'\n",
    "\n",
    "files = [y for y in (test_dir).glob('*/*')] \n",
    "random.shuffle(files)\n",
    "\n",
    "num_test = len(files)//2\n",
    "testdata = [(i.parent.stem, cleanup(open(i).read())) for i in files[:num_test]]\n",
    "\n",
    "oracledata = [(i.parent.stem, cleanup(open(i).read())) for i in files[num_test:]]\n",
    "oracledata += [(i.parent.stem, cleanup(open(i).read())) for i in files]\n",
    "\n",
    "train_dir = data_dir / 'train'\n",
    "\n",
    "files = [y for y in (train_dir).glob('*/*')] \n",
    "\n",
    "testdf = pd.DataFrame(testdata, columns =['cat', 'text'])\n",
    "traindf = pd.DataFrame([], columns =['cat', 'text'])\n",
    "oracledf = pd.DataFrame(oracledata, columns =['cat', 'text'])\n",
    "\n",
    "print(len(traindf))\n",
    "print()\n",
    "print(tuple(testdf.iloc[0]))\n",
    "print()\n",
    "print(tuple(oracledf.iloc[0]))\n",
    "print()\n",
    "len(traindf), len(testdf), len(oracledf)"
   ]
  },
  {
   "cell_type": "code",
   "execution_count": 6,
   "metadata": {},
   "outputs": [],
   "source": [
    "train_dataset = DFDataset(traindf)\n",
    "test_dataset = DFDataset(testdf)\n",
    "oracle_dataset = DFDataset(oracledf)\n"
   ]
  },
  {
   "cell_type": "code",
   "execution_count": 7,
   "metadata": {},
   "outputs": [],
   "source": [
    "from collections import Counter, OrderedDict\n",
    "\n",
    "def build_vocab_from_iterator(iterator, min_freq: int = 1, specials = [], special_first: bool = True, vocab_size = None):\n",
    "    counter = Counter()\n",
    "    for tokens in iterator:\n",
    "        counter.update(tokens)\n",
    "\n",
    "    if specials is not None:\n",
    "        for tok in specials:\n",
    "            del counter[tok]\n",
    "\n",
    "    sorted_by_freq_tuples = sorted(counter.items(), key=lambda x: x[0])\n",
    "    sorted_by_freq_tuples.sort(key=lambda x: x[1], reverse=True)\n",
    "    \n",
    "    if vocab_size is not None:\n",
    "        sorted_by_freq_tuples = sorted_by_freq_tuples[:vocab_size]\n",
    "\n",
    "    ordered_dict = OrderedDict(sorted_by_freq_tuples)\n",
    "\n",
    "    if specials is not None:\n",
    "        if special_first:\n",
    "            specials = specials[::-1]\n",
    "        for symbol in specials:\n",
    "            ordered_dict.update({symbol: min_freq})\n",
    "            ordered_dict.move_to_end(symbol, last=not special_first)\n",
    "\n",
    "    word_vocab = torchtext.vocab.vocab(ordered_dict, min_freq=min_freq)\n",
    "    return word_vocab\n"
   ]
  },
  {
   "cell_type": "code",
   "execution_count": 8,
   "metadata": {},
   "outputs": [],
   "source": [
    "def collate_batch(batch):\n",
    "     label_list, text_list, idx_list = [], [], []\n",
    "     for (label, text, idx) in batch:\n",
    "          input = text_pipeline(text)\n",
    "          label_list.append(torch.tensor([label_pipeline(label)], dtype=torch.float32))\n",
    "          \n",
    "          a = torch.tensor(input[:sequence_max_length], dtype=torch.int64)\n",
    "          b = torch.zeros(max(0, sequence_max_length - len(input)), dtype=torch.int64)\n",
    "          text_list.append(torch.cat((a,b)))\n",
    "\n",
    "          idx_list.append(idx)\n",
    "               \n",
    "     label_list = torch.stack(label_list)\n",
    "     text_list = torch.stack(text_list)\n",
    "     return text_list, label_list, idx_list"
   ]
  },
  {
   "cell_type": "code",
   "execution_count": 9,
   "metadata": {},
   "outputs": [],
   "source": [
    "'''\n",
    "Each query strategy below returns a list of len=query_size with indices of \n",
    "samples that are to be queried.\n",
    "\n",
    "Arguments:\n",
    "- model (torch.nn.Module): not needed for `random_query`\n",
    "- device (torch.device): not needed for `random_query`\n",
    "- dataloader (torch.utils.data.DataLoader)\n",
    "- query_size (int): number of samples to be queried for labels (default=10)\n",
    "\n",
    "'''\n",
    "def random_query(data_loader, query_size=10):\n",
    "    \n",
    "    sample_idx = []\n",
    "    \n",
    "    # Because the data has already been shuffled inside the data loader,\n",
    "    # we can simply return the `query_size` first samples from it\n",
    "    for batch in data_loader:\n",
    "        \n",
    "        _, _, idx = batch\n",
    "        if type(idx) == list:\n",
    "            sample_idx.extend(idx)\n",
    "        else:\n",
    "            sample_idx.extend(idx.tolist())\n",
    "\n",
    "        if len(sample_idx) >= query_size:\n",
    "            break\n",
    "    \n",
    "    return sample_idx[0:query_size]\n",
    "\n",
    "def binary_least_confidence_query(model, device, data_loader, query_size=10):\n",
    "\n",
    "    confidences = []\n",
    "    indices = []\n",
    "    \n",
    "    model.eval()\n",
    "    \n",
    "    with torch.no_grad():\n",
    "        for X, _, idx in data_loader:\n",
    "            X = X.to(device)\n",
    "            probabilities = model(X)\n",
    "            confidence = (torch.abs(probabilities - 0.5)*2).squeeze(dim=-1)\n",
    "            \n",
    "            confidences.extend(confidence.cpu().tolist())\n",
    "            indices.extend(idx)\n",
    "            \n",
    "    conf = np.asarray(confidences)\n",
    "    ind = np.asarray(indices)\n",
    "    sorted_pool = np.argsort(conf)\n",
    "    # Return the indices corresponding to the lowest `query_size` confidences\n",
    "    return ind[sorted_pool][0:query_size]\n",
    "\n",
    "# def least_confidence_query(model, device, data_loader, query_size=10):\n",
    "\n",
    "#     confidences = []\n",
    "#     indices = []\n",
    "    \n",
    "#     model.eval()\n",
    "    \n",
    "#     with torch.no_grad():\n",
    "#         for batch in data_loader:\n",
    "        \n",
    "#             data, _, idx = batch\n",
    "#             logits = model(data.to(device))\n",
    "#             probabilities = F.softmax(logits, dim=1)\n",
    "            \n",
    "#             # Keep only the top class confidence for each sample\n",
    "#             most_probable = torch.max(probabilities, dim=1)[0]\n",
    "#             confidences.extend(most_probable.cpu().tolist())\n",
    "#             indices.extend(idx.tolist())\n",
    "            \n",
    "#     conf = np.asarray(confidences)\n",
    "#     ind = np.asarray(indices)\n",
    "#     sorted_pool = np.argsort(conf)\n",
    "#     # Return the indices corresponding to the lowest `query_size` confidences\n",
    "#     return ind[sorted_pool][0:query_size]\n",
    "\n",
    "# def margin_query(model, device, data_loader, query_size=10):\n",
    "    \n",
    "#     margins = []\n",
    "#     indices = []\n",
    "    \n",
    "#     model.eval()\n",
    "    \n",
    "#     with torch.no_grad():\n",
    "#         for batch in data_loader:\n",
    "        \n",
    "#             data, _, idx = batch\n",
    "#             logits = model(data.to(device))\n",
    "#             probabilities = F.softmax(logits, dim=1)\n",
    "            \n",
    "#             # Select the top two class confidences for each sample\n",
    "#             toptwo = torch.topk(probabilities, 2, dim=1)[0]\n",
    "            \n",
    "#             # Compute the margins = differences between the two top confidences\n",
    "#             differences = toptwo[:,0]-toptwo[:,1]\n",
    "#             margins.extend(torch.abs(differences).cpu().tolist())\n",
    "#             indices.extend(idx.tolist())\n",
    "\n",
    "#     margin = np.asarray(margins)\n",
    "#     index = np.asarray(indices)\n",
    "#     sorted_pool = np.argsort(margin)\n",
    "#     # Return the indices corresponding to the lowest `query_size` margins\n",
    "#     return index[sorted_pool][0:query_size]\n"
   ]
  },
  {
   "cell_type": "code",
   "execution_count": 10,
   "metadata": {},
   "outputs": [],
   "source": [
    "# def query_the_oracle(model, device, dataset, query_size=10, query_strategy='random', \n",
    "#                      interactive=False, pool_size=0, num_workers=4):\n",
    "#     if pool_size > 0:    \n",
    "#         sampler = torch.utils.data.RandomSampler(dataset, replacement=True, num_samples=pool_size)\n",
    "#         pool_loader = DataLoader(dataset, sampler=sampler, batch_size=batch_size, num_workers=num_workers)\n",
    "#     else:\n",
    "#         pool_loader = DataLoader(dataset, batch_size=batch_size, num_workers=num_workers, shuffle=True)\n",
    "        \n",
    "#     if query_strategy == 'margin':\n",
    "#         sample_idx = margin_query(model, device, pool_loader, query_size)\n",
    "#     elif query_strategy == 'least_confidence':\n",
    "#         sample_idx = least_confidence_query(model, device, pool_loader, query_size)\n",
    "#     else:\n",
    "#         sample_idx = random_query(pool_loader, query_size)\n",
    "\n",
    "#     # Query the samples, one at a time\n",
    "#     # for sample in sample_idx:\n",
    "#     #     if interactive:\n",
    "#             # dataset.display(sample)\n",
    "#             # print(\"What is the class of this image?\")\n",
    "#             # new_label = int(input())\n",
    "#             # dataset.update_label(sample, new_label)\n",
    "\n",
    "#     res = dataset.df.iloc[sample_idx]\n",
    "#     dataset.df.drop(dataset.df.iloc[sample_idx].index, inplace=True)\n",
    "#     return res\n",
    "\n",
    "def query_the_binary_oracle(model, device, dataset, query_size=10, query_strategy='random', \n",
    "                     interactive=False, pool_size=0, num_workers=8):\n",
    "    collate_function = None\n",
    "    if model is not None:\n",
    "        collate_function = collate_batch\n",
    "    if pool_size > 0:    \n",
    "        sampler = torch.utils.data.RandomSampler(dataset, replacement=True, num_samples=pool_size)\n",
    "        pool_loader = DataLoader(dataset, sampler=sampler, batch_size=batch_size, num_workers=num_workers, collate_fn=collate_function)\n",
    "    else:\n",
    "        pool_loader = DataLoader(dataset, batch_size=batch_size, num_workers=num_workers, shuffle=True, collate_fn=collate_function)\n",
    "\n",
    "    res2 = None\n",
    "        \n",
    "    if query_strategy == 'least_confidence':\n",
    "        sample_idx = binary_least_confidence_query(model, device, pool_loader, query_size)\n",
    "    elif query_strategy == 'split':\n",
    "        half = query_size//2\n",
    "        sample_idx = binary_least_confidence_query(model, device, pool_loader, half)\n",
    "\n",
    "        res2 = dataset.df.iloc[sample_idx]\n",
    "        dataset.df.drop(dataset.df.iloc[sample_idx].index, inplace=True)\n",
    "\n",
    "        if pool_size > 0:    \n",
    "            sampler = torch.utils.data.RandomSampler(dataset, replacement=True, num_samples=pool_size)\n",
    "            pool_loader = DataLoader(dataset, sampler=sampler, batch_size=batch_size, num_workers=num_workers, collate_fn=collate_function)\n",
    "        else:\n",
    "            pool_loader = DataLoader(dataset, batch_size=batch_size, num_workers=num_workers, shuffle=True, collate_fn=collate_function)\n",
    "\n",
    "        sample_idx += random_query(pool_loader, query_size, query_size - half)\n",
    "    else:\n",
    "        sample_idx = random_query(pool_loader, query_size)\n",
    "\n",
    "    # Query the samples, one at a time\n",
    "    # for sample in sample_idx:\n",
    "    #     if interactive:\n",
    "            # dataset.display(sample)\n",
    "            # print(\"What is the class of this image?\")\n",
    "            # new_label = int(input())\n",
    "            # dataset.update_label(sample, new_label)\n",
    "    res = dataset.df.iloc[sample_idx]\n",
    "    if res2 != None:\n",
    "        res = res.append(res2)\n",
    "    \n",
    "    dataset.df.drop(dataset.df.iloc[sample_idx].index, inplace=True)\n",
    "    return res"
   ]
  },
  {
   "cell_type": "code",
   "execution_count": 11,
   "metadata": {},
   "outputs": [],
   "source": [
    "splits = {\n",
    "    0: 4500,\n",
    "    10: 4000,\n",
    "    20: 4000\n",
    "}\n",
    "\n",
    "new_datapoints = query_the_binary_oracle(None, device, oracle_dataset, splits[0])\n",
    "train_dataset.add_new_df(new_datapoints)"
   ]
  },
  {
   "cell_type": "code",
   "execution_count": 12,
   "metadata": {},
   "outputs": [
    {
     "data": {
      "text/plain": [
       "4500"
      ]
     },
     "execution_count": 12,
     "metadata": {},
     "output_type": "execute_result"
    }
   ],
   "source": [
    "len(train_dataset.df)"
   ]
  },
  {
   "cell_type": "code",
   "execution_count": 13,
   "metadata": {},
   "outputs": [],
   "source": [
    "from torchtext.data.utils import get_tokenizer\n",
    "\n",
    "tokenizer = get_tokenizer('basic_english')\n",
    "\n",
    "def yield_tokens(data_iter):\n",
    "    for _, text, _ in data_iter:\n",
    "        yield tokenizer(text)\n",
    "\n",
    "vocab = build_vocab_from_iterator(yield_tokens(train_dataset), specials=[\"<pad>\", \"<unk>\"], vocab_size=10000-2)\n",
    "vocab.set_default_index(vocab[\"<unk>\"])\n",
    "\n",
    "pad_id = vocab['<pad>']"
   ]
  },
  {
   "cell_type": "code",
   "execution_count": 14,
   "metadata": {},
   "outputs": [],
   "source": [
    "text_pipeline = lambda x: vocab(tokenizer(x))\n",
    "label_pipeline = lambda x: 1 if x == 'pos' else 0"
   ]
  },
  {
   "cell_type": "code",
   "execution_count": 15,
   "metadata": {},
   "outputs": [
    {
     "data": {
      "text/plain": [
       "(0, 10000)"
      ]
     },
     "execution_count": 15,
     "metadata": {},
     "output_type": "execute_result"
    }
   ],
   "source": [
    "pad_id, len(vocab)"
   ]
  },
  {
   "cell_type": "code",
   "execution_count": 16,
   "metadata": {},
   "outputs": [],
   "source": [
    "train_dataloader = DataLoader(\n",
    "    train_dataset,\n",
    "    shuffle=True,\n",
    "    num_workers=8,\n",
    "    batch_size=batch_size,\n",
    "    collate_fn=collate_batch)\n",
    "\n",
    "test_dataloader = DataLoader(\n",
    "    test_dataset, \n",
    "    num_workers=8,\n",
    "    batch_size=batch_size, \n",
    "    collate_fn=collate_batch)\n"
   ]
  },
  {
   "cell_type": "code",
   "execution_count": 17,
   "metadata": {},
   "outputs": [
    {
     "name": "stdout",
     "output_type": "stream",
     "text": [
      "Shape of X:  torch.Size([32, 250])\n",
      "Labels :  torch.Size([32, 1])\n",
      "SAMPLE\n",
      "Label:  1.0\n",
      "Index: 3177\n",
      "Text:\n",
      "i paid attention and enjoyed the very rich expressions <unk> of the main actress , julianne nicholson . i don ' t have words to describe how much have i been enchanted . all the actors and actresses played well . especially i noticed the solid good character who has been consistent in <unk> the future - andy <unk> who played carl . i think that the idea to show a variety of friends and relatives with different opinions , and the several <unk> meetings , is like the real world . jay <unk> who played ed , the future husband , also played very real behavior . but , i want to emphasize again the point of very rich expressions repertoire which julianne nicholson is capable of and does so naturally , was overwhelming for me . indeed , the subject which this movie handles seems to me as very important and touches strongly meaningful thoughts of many people . i ' ve seen this movie several times and have not been bored . it raises again and again in my thoughts . <pad> <pad> <pad> <pad> <pad> <pad> <pad> <pad> <pad> <pad> <pad> <pad> <pad> <pad> <pad> <pad> <pad> <pad> <pad> <pad> <pad> <pad> <pad> <pad> <pad> <pad> <pad> <pad> <pad> <pad> <pad> <pad> <pad> <pad> <pad> <pad> <pad> <pad> <pad> <pad> <pad> <pad> <pad> <pad> <pad> <pad> <pad> <pad> <pad> <pad> <pad> <pad> <pad> <pad> <pad> <pad> <pad> <pad> <pad> <pad> <pad> <pad> <pad> <pad> <pad> <pad>\n"
     ]
    }
   ],
   "source": [
    "\n",
    "for X, y, idx in train_dataloader:\n",
    "    print(\"Shape of X: \", X.shape)\n",
    "    print(\"Labels : \", y.shape)\n",
    "    print(\"SAMPLE\")\n",
    "    print(\"Label: \",y[0].item())\n",
    "    print(\"Index:\", idx[0])\n",
    "    print(\"Text:\")\n",
    "    print(\" \".join(vocab.lookup_tokens(X[0].tolist())))\n",
    "    # print(X, y, o)\n",
    "    break"
   ]
  },
  {
   "cell_type": "code",
   "execution_count": 18,
   "metadata": {},
   "outputs": [],
   "source": [
    "from torch import nn\n",
    "\n",
    "class ClassifyNet(nn.Module):\n",
    "\n",
    "    def __init__(self, vocab_size, embed_dim, num_class):\n",
    "        super().__init__()\n",
    "        self.emb = nn.Embedding(vocab_size, embed_dim)\n",
    "        # self.pool = nn.AvgPool1d(3, stride=2)\n",
    "        self.fc = nn.Linear(embed_dim, num_class)\n",
    "        self.dropout = nn.Dropout(0.2)\n",
    "        self.dropout2 = nn.Dropout(0.2)\n",
    "\n",
    "    def forward(self, x):\n",
    "        x = self.emb(x)\n",
    "        # print(x.shape)\n",
    "        x = self.dropout(x)\n",
    "        x = torch.mean(x, 1)\n",
    "        x = self.dropout2(x)\n",
    "        # print(x.shape)\n",
    "        x = self.fc(x)\n",
    "\n",
    "        return torch.sigmoid(x)"
   ]
  },
  {
   "cell_type": "code",
   "execution_count": 19,
   "metadata": {},
   "outputs": [
    {
     "data": {
      "text/plain": [
       "torch.Size([32, 16])"
      ]
     },
     "execution_count": 19,
     "metadata": {},
     "output_type": "execute_result"
    }
   ],
   "source": [
    "a = torch.randn(32, 250, 16)\n",
    "torch.mean(a, 1).shape"
   ]
  },
  {
   "cell_type": "code",
   "execution_count": 20,
   "metadata": {},
   "outputs": [],
   "source": [
    "def train_loop(dataloader, model, loss_fn, optimizer, history):\n",
    "    size = len(dataloader.dataset)\n",
    "    total_loss, accuracy = 0, 0\n",
    "    for batch, (X, y, _) in enumerate(dataloader):\n",
    "        X = X.to(device)\n",
    "        y = y.to(device)\n",
    "        \n",
    "        #FORWARD PASS\n",
    "        pred = model(X)\n",
    "        loss = loss_fn(pred, y)\n",
    "\n",
    "        # Backpropagation\n",
    "        optimizer.zero_grad()\n",
    "        loss.backward()\n",
    "        optimizer.step()\n",
    "\n",
    "        total_loss += loss.item()\n",
    "        accuracy += (torch.round(pred) == y).type(torch.float).sum().item()\n",
    "\n",
    "        # if batch % 100 == 0:\n",
    "        #     loss, current = loss.item(), batch * len(X)\n",
    "        #     print(f\"loss: {loss:>7f}  [{current:>5d}/{size:>5d}]\")\n",
    "    accuracy /= size\n",
    "    total_loss /= size\n",
    "    history['train_loss'].append(total_loss)\n",
    "    history['train_accuracy'].append(accuracy)\n",
    "    return loss, accuracy\n",
    "\n",
    "\n",
    "def test_loop(dataloader, model, loss_fn, history):\n",
    "    size = len(dataloader.dataset)\n",
    "    num_batches = len(dataloader)\n",
    "    loss, accuracy = 0, 0\n",
    "\n",
    "    with torch.no_grad():\n",
    "        for X, y, _ in dataloader:\n",
    "            X = X.to(device)\n",
    "            y = y.to(device)\n",
    "            \n",
    "            pred = model(X)\n",
    "            \n",
    "            loss += loss_fn(pred, y).item()\n",
    "            accuracy += (torch.round(pred) == y).type(torch.float).sum().item()\n",
    "\n",
    "    loss /= num_batches\n",
    "    accuracy /= size\n",
    "\n",
    "    history['test_loss'].append(loss)\n",
    "    history['test_accuracy'].append(accuracy)\n",
    "    return loss, accuracy"
   ]
  },
  {
   "cell_type": "code",
   "execution_count": 21,
   "metadata": {},
   "outputs": [],
   "source": [
    "emsize = 16\n",
    "num_classes = 1\n",
    "vocab_size = len(vocab)\n",
    "\n",
    "model = ClassifyNet(vocab_size, emsize, num_classes).to(device)\n",
    "    \n",
    "loss_fn = nn.BCELoss()\n",
    "optimizer = torch.optim.Adam(model.parameters(), lr=3e-3)\n",
    "\n"
   ]
  },
  {
   "cell_type": "code",
   "execution_count": 22,
   "metadata": {},
   "outputs": [
    {
     "name": "stdout",
     "output_type": "stream",
     "text": [
      "Number of trainable parameters: 160017\n"
     ]
    }
   ],
   "source": [
    "count = sum(p.numel() for p in model.parameters() if p.requires_grad)\n",
    "print(f\"Number of trainable parameters: {count}\")"
   ]
  },
  {
   "cell_type": "code",
   "execution_count": 23,
   "metadata": {},
   "outputs": [
    {
     "name": "stderr",
     "output_type": "stream",
     "text": [
      "01:46 Elapsed | 100% done |██████████| 50/50 [00:00 remaining |  2.14s/epoch]\n"
     ]
    }
   ],
   "source": [
    "epochs = 50\n",
    "history = {\n",
    "    'train_loss':[],\n",
    "    'train_accuracy':[],\n",
    "    'test_loss':[],\n",
    "    'test_accuracy':[]\n",
    "}\n",
    "\n",
    "for t in tqdm(range(epochs), bar_format=\"{elapsed} Elapsed | {percentage:3.0f}% done |{bar}| {n_fmt}/{total_fmt} [{remaining} remaining | {rate_fmt}{postfix}]\", unit=\"epoch\", total=epochs):\n",
    "    if t > 0 and t in splits:\n",
    "        new_datapoints = query_the_binary_oracle(model, device, oracle_dataset, query_size=splits[t], query_strategy='random')\n",
    "        train_dataset.add_new_df(new_datapoints)\n",
    "        train_dataloader = DataLoader(\n",
    "            train_dataset,\n",
    "            shuffle=True,\n",
    "            num_workers=8,\n",
    "            batch_size=batch_size,\n",
    "            collate_fn=collate_batch)\n",
    "            \n",
    "    train_loop(train_dataloader, model, loss_fn, optimizer, history)\n",
    "    test_loop(test_dataloader, model, loss_fn, history)"
   ]
  },
  {
   "cell_type": "code",
   "execution_count": 24,
   "metadata": {},
   "outputs": [
    {
     "data": {
      "text/plain": [
       "12500"
      ]
     },
     "execution_count": 24,
     "metadata": {},
     "output_type": "execute_result"
    }
   ],
   "source": [
    "len(train_dataset)"
   ]
  },
  {
   "cell_type": "code",
   "execution_count": 25,
   "metadata": {},
   "outputs": [
    {
     "data": {
      "image/png": "[encoded data removed]",
      "image/svg+xml": "<?xml version=\"1.0\" encoding=\"utf-8\" standalone=\"no\"?>\n<!DOCTYPE svg PUBLIC \"-//W3C//DTD SVG 1.1//EN\"\n  \"http://www.w3.org/Graphics/SVG/1.1/DTD/svg11.dtd\">\n<svg xmlns:xlink=\"http://www.w3.org/1999/xlink\" width=\"484.607032pt\" height=\"481.07625pt\" viewBox=\"0 0 484.607032 481.07625\" xmlns=\"http://www.w3.org/2000/svg\" version=\"1.1\">\n <metadata>\n  <rdf:RDF xmlns:dc=\"http://purl.org/dc/elements/1.1/\" xmlns:cc=\"http://creativecommons.org/ns#\" xmlns:rdf=\"http://www.w3.org/1999/02/22-rdf-syntax-ns#\">\n   <cc:Work>\n    <dc:type rdf:resource=\"http://purl.org/dc/dcmitype/StillImage\"/>\n    <dc:date>2022-04-28T12:26:02.312939</dc:date>\n    <dc:format>image/svg+xml</dc:format>\n    <dc:creator>\n     <cc:Agent>\n      <dc:title>Matplotlib v3.5.1, https://matplotlib.org/</dc:title>\n     </cc:Agent>\n    </dc:creator>\n   </cc:Work>\n  </rdf:RDF>\n </metadata>\n <defs>\n  <style type=\"text/css\">*{stroke-linejoin: round; stroke-linecap: butt}</style>\n </defs>\n <g id=\"figure_1\">\n  <g id=\"patch_1\">\n   <path d=\"M 0 481.07625 \nL 484.607032 481.07625 \nL 484.607032 0 \nL 0 0 \nL 0 481.07625 \nz\n\" style=\"fill: none\"/>\n  </g>\n  <g id=\"axes_1\">\n   <g id=\"patch_2\">\n    <path d=\"M 30.103125 457.198125 \nL 233.012216 457.198125 \nL 233.012216 22.318125 \nL 30.103125 22.318125 \nz\n\" style=\"fill: #ffffff\"/>\n   </g>\n   <g id=\"matplotlib.axis_1\">\n    <g id=\"xtick_1\">\n     <g id=\"line2d_1\">\n      <defs>\n       <path id=\"mab2edd0af2\" d=\"M 0 0 \nL 0 3.5 \n\" style=\"stroke: #000000; stroke-width: 0.8\"/>\n      </defs>\n      <g>\n       <use xlink:href=\"#mab2edd0af2\" x=\"39.326265\" y=\"457.198125\" style=\"stroke: #000000; stroke-width: 0.8\"/>\n      </g>\n     </g>\n     <g id=\"text_1\">\n      <!-- 0 -->\n      <g transform=\"translate(36.145015 471.796562)scale(0.1 -0.1)\">\n       <defs>\n        <path id=\"DejaVuSans-30\" d=\"M 2034 4250 \nQ 1547 4250 1301 3770 \nQ 1056 3291 1056 2328 \nQ 1056 1369 1301 889 \nQ 1547 409 2034 409 \nQ 2525 409 2770 889 \nQ 3016 1369 3016 2328 \nQ 3016 3291 2770 3770 \nQ 2525 4250 2034 4250 \nz\nM 2034 4750 \nQ 2819 4750 3233 4129 \nQ 3647 3509 3647 2328 \nQ 3647 1150 3233 529 \nQ 2819 -91 2034 -91 \nQ 1250 -91 836 529 \nQ 422 1150 422 2328 \nQ 422 3509 836 4129 \nQ 1250 4750 2034 4750 \nz\n\" transform=\"scale(0.015625)\"/>\n       </defs>\n       <use xlink:href=\"#DejaVuSans-30\"/>\n      </g>\n     </g>\n    </g>\n    <g id=\"xtick_2\">\n     <g id=\"line2d_2\">\n      <g>\n       <use xlink:href=\"#mab2edd0af2\" x=\"76.971737\" y=\"457.198125\" style=\"stroke: #000000; stroke-width: 0.8\"/>\n      </g>\n     </g>\n     <g id=\"text_2\">\n      <!-- 10 -->\n      <g transform=\"translate(70.609237 471.796562)scale(0.1 -0.1)\">\n       <defs>\n        <path id=\"DejaVuSans-31\" d=\"M 794 531 \nL 1825 531 \nL 1825 4091 \nL 703 3866 \nL 703 4441 \nL 1819 4666 \nL 2450 4666 \nL 2450 531 \nL 3481 531 \nL 3481 0 \nL 794 0 \nL 794 531 \nz\n\" transform=\"scale(0.015625)\"/>\n       </defs>\n       <use xlink:href=\"#DejaVuSans-31\"/>\n       <use xlink:href=\"#DejaVuSans-30\" x=\"63.623047\"/>\n      </g>\n     </g>\n    </g>\n    <g id=\"xtick_3\">\n     <g id=\"line2d_3\">\n      <g>\n       <use xlink:href=\"#mab2edd0af2\" x=\"114.617208\" y=\"457.198125\" style=\"stroke: #000000; stroke-width: 0.8\"/>\n      </g>\n     </g>\n     <g id=\"text_3\">\n      <!-- 20 -->\n      <g transform=\"translate(108.254708 471.796562)scale(0.1 -0.1)\">\n       <defs>\n        <path id=\"DejaVuSans-32\" d=\"M 1228 531 \nL 3431 531 \nL 3431 0 \nL 469 0 \nL 469 531 \nQ 828 903 1448 1529 \nQ 2069 2156 2228 2338 \nQ 2531 2678 2651 2914 \nQ 2772 3150 2772 3378 \nQ 2772 3750 2511 3984 \nQ 2250 4219 1831 4219 \nQ 1534 4219 1204 4116 \nQ 875 4013 500 3803 \nL 500 4441 \nQ 881 4594 1212 4672 \nQ 1544 4750 1819 4750 \nQ 2544 4750 2975 4387 \nQ 3406 4025 3406 3419 \nQ 3406 3131 3298 2873 \nQ 3191 2616 2906 2266 \nQ 2828 2175 2409 1742 \nQ 1991 1309 1228 531 \nz\n\" transform=\"scale(0.015625)\"/>\n       </defs>\n       <use xlink:href=\"#DejaVuSans-32\"/>\n       <use xlink:href=\"#DejaVuSans-30\" x=\"63.623047\"/>\n      </g>\n     </g>\n    </g>\n    <g id=\"xtick_4\">\n     <g id=\"line2d_4\">\n      <g>\n       <use xlink:href=\"#mab2edd0af2\" x=\"152.26268\" y=\"457.198125\" style=\"stroke: #000000; stroke-width: 0.8\"/>\n      </g>\n     </g>\n     <g id=\"text_4\">\n      <!-- 30 -->\n      <g transform=\"translate(145.90018 471.796562)scale(0.1 -0.1)\">\n       <defs>\n        <path id=\"DejaVuSans-33\" d=\"M 2597 2516 \nQ 3050 2419 3304 2112 \nQ 3559 1806 3559 1356 \nQ 3559 666 3084 287 \nQ 2609 -91 1734 -91 \nQ 1441 -91 1130 -33 \nQ 819 25 488 141 \nL 488 750 \nQ 750 597 1062 519 \nQ 1375 441 1716 441 \nQ 2309 441 2620 675 \nQ 2931 909 2931 1356 \nQ 2931 1769 2642 2001 \nQ 2353 2234 1838 2234 \nL 1294 2234 \nL 1294 2753 \nL 1863 2753 \nQ 2328 2753 2575 2939 \nQ 2822 3125 2822 3475 \nQ 2822 3834 2567 4026 \nQ 2313 4219 1838 4219 \nQ 1578 4219 1281 4162 \nQ 984 4106 628 3988 \nL 628 4550 \nQ 988 4650 1302 4700 \nQ 1616 4750 1894 4750 \nQ 2613 4750 3031 4423 \nQ 3450 4097 3450 3541 \nQ 3450 3153 3228 2886 \nQ 3006 2619 2597 2516 \nz\n\" transform=\"scale(0.015625)\"/>\n       </defs>\n       <use xlink:href=\"#DejaVuSans-33\"/>\n       <use xlink:href=\"#DejaVuSans-30\" x=\"63.623047\"/>\n      </g>\n     </g>\n    </g>\n    <g id=\"xtick_5\">\n     <g id=\"line2d_5\">\n      <g>\n       <use xlink:href=\"#mab2edd0af2\" x=\"189.908151\" y=\"457.198125\" style=\"stroke: #000000; stroke-width: 0.8\"/>\n      </g>\n     </g>\n     <g id=\"text_5\">\n      <!-- 40 -->\n      <g transform=\"translate(183.545651 471.796562)scale(0.1 -0.1)\">\n       <defs>\n        <path id=\"DejaVuSans-34\" d=\"M 2419 4116 \nL 825 1625 \nL 2419 1625 \nL 2419 4116 \nz\nM 2253 4666 \nL 3047 4666 \nL 3047 1625 \nL 3713 1625 \nL 3713 1100 \nL 3047 1100 \nL 3047 0 \nL 2419 0 \nL 2419 1100 \nL 313 1100 \nL 313 1709 \nL 2253 4666 \nz\n\" transform=\"scale(0.015625)\"/>\n       </defs>\n       <use xlink:href=\"#DejaVuSans-34\"/>\n       <use xlink:href=\"#DejaVuSans-30\" x=\"63.623047\"/>\n      </g>\n     </g>\n    </g>\n    <g id=\"xtick_6\">\n     <g id=\"line2d_6\">\n      <g>\n       <use xlink:href=\"#mab2edd0af2\" x=\"227.553623\" y=\"457.198125\" style=\"stroke: #000000; stroke-width: 0.8\"/>\n      </g>\n     </g>\n     <g id=\"text_6\">\n      <!-- 50 -->\n      <g transform=\"translate(221.191123 471.796562)scale(0.1 -0.1)\">\n       <defs>\n        <path id=\"DejaVuSans-35\" d=\"M 691 4666 \nL 3169 4666 \nL 3169 4134 \nL 1269 4134 \nL 1269 2991 \nQ 1406 3038 1543 3061 \nQ 1681 3084 1819 3084 \nQ 2600 3084 3056 2656 \nQ 3513 2228 3513 1497 \nQ 3513 744 3044 326 \nQ 2575 -91 1722 -91 \nQ 1428 -91 1123 -41 \nQ 819 9 494 109 \nL 494 744 \nQ 775 591 1075 516 \nQ 1375 441 1709 441 \nQ 2250 441 2565 725 \nQ 2881 1009 2881 1497 \nQ 2881 1984 2565 2268 \nQ 2250 2553 1709 2553 \nQ 1456 2553 1204 2497 \nQ 953 2441 691 2322 \nL 691 4666 \nz\n\" transform=\"scale(0.015625)\"/>\n       </defs>\n       <use xlink:href=\"#DejaVuSans-35\"/>\n       <use xlink:href=\"#DejaVuSans-30\" x=\"63.623047\"/>\n      </g>\n     </g>\n    </g>\n   </g>\n   <g id=\"matplotlib.axis_2\">\n    <g id=\"ytick_1\">\n     <g id=\"line2d_7\">\n      <defs>\n       <path id=\"mb10fe1000f\" d=\"M 0 0 \nL -3.5 0 \n\" style=\"stroke: #000000; stroke-width: 0.8\"/>\n      </defs>\n      <g>\n       <use xlink:href=\"#mb10fe1000f\" x=\"30.103125\" y=\"375.898224\" style=\"stroke: #000000; stroke-width: 0.8\"/>\n      </g>\n     </g>\n     <g id=\"text_7\">\n      <!-- 0.6 -->\n      <g transform=\"translate(7.2 379.697442)scale(0.1 -0.1)\">\n       <defs>\n        <path id=\"DejaVuSans-2e\" d=\"M 684 794 \nL 1344 794 \nL 1344 0 \nL 684 0 \nL 684 794 \nz\n\" transform=\"scale(0.015625)\"/>\n        <path id=\"DejaVuSans-36\" d=\"M 2113 2584 \nQ 1688 2584 1439 2293 \nQ 1191 2003 1191 1497 \nQ 1191 994 1439 701 \nQ 1688 409 2113 409 \nQ 2538 409 2786 701 \nQ 3034 994 3034 1497 \nQ 3034 2003 2786 2293 \nQ 2538 2584 2113 2584 \nz\nM 3366 4563 \nL 3366 3988 \nQ 3128 4100 2886 4159 \nQ 2644 4219 2406 4219 \nQ 1781 4219 1451 3797 \nQ 1122 3375 1075 2522 \nQ 1259 2794 1537 2939 \nQ 1816 3084 2150 3084 \nQ 2853 3084 3261 2657 \nQ 3669 2231 3669 1497 \nQ 3669 778 3244 343 \nQ 2819 -91 2113 -91 \nQ 1303 -91 875 529 \nQ 447 1150 447 2328 \nQ 447 3434 972 4092 \nQ 1497 4750 2381 4750 \nQ 2619 4750 2861 4703 \nQ 3103 4656 3366 4563 \nz\n\" transform=\"scale(0.015625)\"/>\n       </defs>\n       <use xlink:href=\"#DejaVuSans-30\"/>\n       <use xlink:href=\"#DejaVuSans-2e\" x=\"63.623047\"/>\n       <use xlink:href=\"#DejaVuSans-36\" x=\"95.410156\"/>\n      </g>\n     </g>\n    </g>\n    <g id=\"ytick_2\">\n     <g id=\"line2d_8\">\n      <g>\n       <use xlink:href=\"#mb10fe1000f\" x=\"30.103125\" y=\"291.653113\" style=\"stroke: #000000; stroke-width: 0.8\"/>\n      </g>\n     </g>\n     <g id=\"text_8\">\n      <!-- 0.7 -->\n      <g transform=\"translate(7.2 295.452332)scale(0.1 -0.1)\">\n       <defs>\n        <path id=\"DejaVuSans-37\" d=\"M 525 4666 \nL 3525 4666 \nL 3525 4397 \nL 1831 0 \nL 1172 0 \nL 2766 4134 \nL 525 4134 \nL 525 4666 \nz\n\" transform=\"scale(0.015625)\"/>\n       </defs>\n       <use xlink:href=\"#DejaVuSans-30\"/>\n       <use xlink:href=\"#DejaVuSans-2e\" x=\"63.623047\"/>\n       <use xlink:href=\"#DejaVuSans-37\" x=\"95.410156\"/>\n      </g>\n     </g>\n    </g>\n    <g id=\"ytick_3\">\n     <g id=\"line2d_9\">\n      <g>\n       <use xlink:href=\"#mb10fe1000f\" x=\"30.103125\" y=\"207.408003\" style=\"stroke: #000000; stroke-width: 0.8\"/>\n      </g>\n     </g>\n     <g id=\"text_9\">\n      <!-- 0.8 -->\n      <g transform=\"translate(7.2 211.207221)scale(0.1 -0.1)\">\n       <defs>\n        <path id=\"DejaVuSans-38\" d=\"M 2034 2216 \nQ 1584 2216 1326 1975 \nQ 1069 1734 1069 1313 \nQ 1069 891 1326 650 \nQ 1584 409 2034 409 \nQ 2484 409 2743 651 \nQ 3003 894 3003 1313 \nQ 3003 1734 2745 1975 \nQ 2488 2216 2034 2216 \nz\nM 1403 2484 \nQ 997 2584 770 2862 \nQ 544 3141 544 3541 \nQ 544 4100 942 4425 \nQ 1341 4750 2034 4750 \nQ 2731 4750 3128 4425 \nQ 3525 4100 3525 3541 \nQ 3525 3141 3298 2862 \nQ 3072 2584 2669 2484 \nQ 3125 2378 3379 2068 \nQ 3634 1759 3634 1313 \nQ 3634 634 3220 271 \nQ 2806 -91 2034 -91 \nQ 1263 -91 848 271 \nQ 434 634 434 1313 \nQ 434 1759 690 2068 \nQ 947 2378 1403 2484 \nz\nM 1172 3481 \nQ 1172 3119 1398 2916 \nQ 1625 2713 2034 2713 \nQ 2441 2713 2670 2916 \nQ 2900 3119 2900 3481 \nQ 2900 3844 2670 4047 \nQ 2441 4250 2034 4250 \nQ 1625 4250 1398 4047 \nQ 1172 3844 1172 3481 \nz\n\" transform=\"scale(0.015625)\"/>\n       </defs>\n       <use xlink:href=\"#DejaVuSans-30\"/>\n       <use xlink:href=\"#DejaVuSans-2e\" x=\"63.623047\"/>\n       <use xlink:href=\"#DejaVuSans-38\" x=\"95.410156\"/>\n      </g>\n     </g>\n    </g>\n    <g id=\"ytick_4\">\n     <g id=\"line2d_10\">\n      <g>\n       <use xlink:href=\"#mb10fe1000f\" x=\"30.103125\" y=\"123.162892\" style=\"stroke: #000000; stroke-width: 0.8\"/>\n      </g>\n     </g>\n     <g id=\"text_10\">\n      <!-- 0.9 -->\n      <g transform=\"translate(7.2 126.962111)scale(0.1 -0.1)\">\n       <defs>\n        <path id=\"DejaVuSans-39\" d=\"M 703 97 \nL 703 672 \nQ 941 559 1184 500 \nQ 1428 441 1663 441 \nQ 2288 441 2617 861 \nQ 2947 1281 2994 2138 \nQ 2813 1869 2534 1725 \nQ 2256 1581 1919 1581 \nQ 1219 1581 811 2004 \nQ 403 2428 403 3163 \nQ 403 3881 828 4315 \nQ 1253 4750 1959 4750 \nQ 2769 4750 3195 4129 \nQ 3622 3509 3622 2328 \nQ 3622 1225 3098 567 \nQ 2575 -91 1691 -91 \nQ 1453 -91 1209 -44 \nQ 966 3 703 97 \nz\nM 1959 2075 \nQ 2384 2075 2632 2365 \nQ 2881 2656 2881 3163 \nQ 2881 3666 2632 3958 \nQ 2384 4250 1959 4250 \nQ 1534 4250 1286 3958 \nQ 1038 3666 1038 3163 \nQ 1038 2656 1286 2365 \nQ 1534 2075 1959 2075 \nz\n\" transform=\"scale(0.015625)\"/>\n       </defs>\n       <use xlink:href=\"#DejaVuSans-30\"/>\n       <use xlink:href=\"#DejaVuSans-2e\" x=\"63.623047\"/>\n       <use xlink:href=\"#DejaVuSans-39\" x=\"95.410156\"/>\n      </g>\n     </g>\n    </g>\n    <g id=\"ytick_5\">\n     <g id=\"line2d_11\">\n      <g>\n       <use xlink:href=\"#mb10fe1000f\" x=\"30.103125\" y=\"38.917782\" style=\"stroke: #000000; stroke-width: 0.8\"/>\n      </g>\n     </g>\n     <g id=\"text_11\">\n      <!-- 1.0 -->\n      <g transform=\"translate(7.2 42.717)scale(0.1 -0.1)\">\n       <use xlink:href=\"#DejaVuSans-31\"/>\n       <use xlink:href=\"#DejaVuSans-2e\" x=\"63.623047\"/>\n       <use xlink:href=\"#DejaVuSans-30\" x=\"95.410156\"/>\n      </g>\n     </g>\n    </g>\n   </g>\n   <g id=\"line2d_12\">\n    <path d=\"M 39.326265 434.120955 \nL 43.090813 392.747246 \nL 46.85536 311.684728 \nL 50.619907 260.201605 \nL 54.384454 226.690772 \nL 58.149001 192.805517 \nL 61.913548 168.093618 \nL 65.678095 144.504987 \nL 69.442643 135.518842 \nL 73.20719 123.537315 \nL 76.971737 143.282607 \nL 80.736284 129.704277 \nL 84.500831 120.98243 \nL 88.265378 108.296108 \nL 92.029925 100.069821 \nL 95.794473 97.691135 \nL 99.55902 92.537317 \nL 103.323567 81.436784 \nL 107.088114 81.040337 \nL 110.852661 74.796287 \nL 114.617208 93.980386 \nL 118.381755 90.340997 \nL 122.146303 85.016706 \nL 125.91085 79.961999 \nL 129.675397 77.19876 \nL 133.439944 71.807073 \nL 137.204491 69.78519 \nL 140.969038 66.954554 \nL 144.733585 63.517354 \nL 148.498133 61.630263 \nL 152.26268 59.204004 \nL 156.027227 58.395251 \nL 159.791774 57.923479 \nL 163.556321 55.227635 \nL 167.320868 53.340544 \nL 171.085415 52.936168 \nL 174.849963 50.577305 \nL 178.61451 49.161987 \nL 182.379057 49.027195 \nL 186.143604 47.342293 \nL 189.908151 46.600936 \nL 193.672698 46.398747 \nL 197.437245 45.387806 \nL 201.201793 44.98343 \nL 204.96634 43.702904 \nL 208.730887 43.7703 \nL 212.495434 43.163735 \nL 216.259981 43.231131 \nL 220.024528 42.085398 \nL 223.789075 42.287586 \n\" clip-path=\"url(#pf81be1ed5d)\" style=\"fill: none; stroke: #03cea4; stroke-width: 1.5; stroke-linecap: square\"/>\n   </g>\n   <g id=\"line2d_13\">\n    <path d=\"M 39.326265 437.430852 \nL 43.090813 360.8015 \nL 46.85536 316.320081 \nL 50.619907 271.299494 \nL 54.384454 240.095105 \nL 58.149001 220.752428 \nL 61.913548 209.092905 \nL 65.678095 195.276707 \nL 69.442643 188.604494 \nL 73.20719 179.977795 \nL 76.971737 168.048687 \nL 80.736284 159.287195 \nL 84.500831 152.817171 \nL 88.265378 152.817171 \nL 92.029925 146.27975 \nL 95.794473 144.527452 \nL 99.55902 144.527452 \nL 103.323567 140.281499 \nL 107.088114 138.933577 \nL 110.852661 137.450863 \nL 114.617208 134.215851 \nL 118.381755 132.261364 \nL 122.146303 132.396156 \nL 125.91085 127.34145 \nL 129.675397 127.813222 \nL 133.439944 123.297684 \nL 137.204491 125.521755 \nL 140.969038 123.499873 \nL 144.733585 122.286743 \nL 148.498133 120.736633 \nL 152.26268 122.151951 \nL 156.027227 123.230288 \nL 159.791774 122.084555 \nL 163.556321 120.467049 \nL 167.320868 119.119127 \nL 171.085415 122.421535 \nL 174.849963 117.434225 \nL 178.61451 119.186523 \nL 182.379057 120.197464 \nL 186.143604 117.569017 \nL 189.908151 119.456107 \nL 193.672698 119.186523 \nL 197.437245 118.175582 \nL 201.201793 118.175582 \nL 204.96634 118.984335 \nL 208.730887 117.636413 \nL 212.495434 118.040789 \nL 216.259981 118.984335 \nL 220.024528 116.895056 \nL 223.789075 120.062672 \n\" clip-path=\"url(#pf81be1ed5d)\" style=\"fill: none; stroke: #fc00ff; stroke-width: 1.5; stroke-linecap: square\"/>\n   </g>\n   <g id=\"patch_3\">\n    <path d=\"M 30.103125 457.198125 \nL 30.103125 22.318125 \n\" style=\"fill: none; stroke: #000000; stroke-width: 0.8; stroke-linejoin: miter; stroke-linecap: square\"/>\n   </g>\n   <g id=\"patch_4\">\n    <path d=\"M 233.012216 457.198125 \nL 233.012216 22.318125 \n\" style=\"fill: none; stroke: #000000; stroke-width: 0.8; stroke-linejoin: miter; stroke-linecap: square\"/>\n   </g>\n   <g id=\"patch_5\">\n    <path d=\"M 30.103125 457.198125 \nL 233.012216 457.198125 \n\" style=\"fill: none; stroke: #000000; stroke-width: 0.8; stroke-linejoin: miter; stroke-linecap: square\"/>\n   </g>\n   <g id=\"patch_6\">\n    <path d=\"M 30.103125 22.318125 \nL 233.012216 22.318125 \n\" style=\"fill: none; stroke: #000000; stroke-width: 0.8; stroke-linejoin: miter; stroke-linecap: square\"/>\n   </g>\n   <g id=\"text_12\">\n    <!-- Training and Validation Accuracy -->\n    <g transform=\"translate(33.85517 16.318125)scale(0.12 -0.12)\">\n     <defs>\n      <path id=\"DejaVuSans-54\" d=\"M -19 4666 \nL 3928 4666 \nL 3928 4134 \nL 2272 4134 \nL 2272 0 \nL 1638 0 \nL 1638 4134 \nL -19 4134 \nL -19 4666 \nz\n\" transform=\"scale(0.015625)\"/>\n      <path id=\"DejaVuSans-72\" d=\"M 2631 2963 \nQ 2534 3019 2420 3045 \nQ 2306 3072 2169 3072 \nQ 1681 3072 1420 2755 \nQ 1159 2438 1159 1844 \nL 1159 0 \nL 581 0 \nL 581 3500 \nL 1159 3500 \nL 1159 2956 \nQ 1341 3275 1631 3429 \nQ 1922 3584 2338 3584 \nQ 2397 3584 2469 3576 \nQ 2541 3569 2628 3553 \nL 2631 2963 \nz\n\" transform=\"scale(0.015625)\"/>\n      <path id=\"DejaVuSans-61\" d=\"M 2194 1759 \nQ 1497 1759 1228 1600 \nQ 959 1441 959 1056 \nQ 959 750 1161 570 \nQ 1363 391 1709 391 \nQ 2188 391 2477 730 \nQ 2766 1069 2766 1631 \nL 2766 1759 \nL 2194 1759 \nz\nM 3341 1997 \nL 3341 0 \nL 2766 0 \nL 2766 531 \nQ 2569 213 2275 61 \nQ 1981 -91 1556 -91 \nQ 1019 -91 701 211 \nQ 384 513 384 1019 \nQ 384 1609 779 1909 \nQ 1175 2209 1959 2209 \nL 2766 2209 \nL 2766 2266 \nQ 2766 2663 2505 2880 \nQ 2244 3097 1772 3097 \nQ 1472 3097 1187 3025 \nQ 903 2953 641 2809 \nL 641 3341 \nQ 956 3463 1253 3523 \nQ 1550 3584 1831 3584 \nQ 2591 3584 2966 3190 \nQ 3341 2797 3341 1997 \nz\n\" transform=\"scale(0.015625)\"/>\n      <path id=\"DejaVuSans-69\" d=\"M 603 3500 \nL 1178 3500 \nL 1178 0 \nL 603 0 \nL 603 3500 \nz\nM 603 4863 \nL 1178 4863 \nL 1178 4134 \nL 603 4134 \nL 603 4863 \nz\n\" transform=\"scale(0.015625)\"/>\n      <path id=\"DejaVuSans-6e\" d=\"M 3513 2113 \nL 3513 0 \nL 2938 0 \nL 2938 2094 \nQ 2938 2591 2744 2837 \nQ 2550 3084 2163 3084 \nQ 1697 3084 1428 2787 \nQ 1159 2491 1159 1978 \nL 1159 0 \nL 581 0 \nL 581 3500 \nL 1159 3500 \nL 1159 2956 \nQ 1366 3272 1645 3428 \nQ 1925 3584 2291 3584 \nQ 2894 3584 3203 3211 \nQ 3513 2838 3513 2113 \nz\n\" transform=\"scale(0.015625)\"/>\n      <path id=\"DejaVuSans-67\" d=\"M 2906 1791 \nQ 2906 2416 2648 2759 \nQ 2391 3103 1925 3103 \nQ 1463 3103 1205 2759 \nQ 947 2416 947 1791 \nQ 947 1169 1205 825 \nQ 1463 481 1925 481 \nQ 2391 481 2648 825 \nQ 2906 1169 2906 1791 \nz\nM 3481 434 \nQ 3481 -459 3084 -895 \nQ 2688 -1331 1869 -1331 \nQ 1566 -1331 1297 -1286 \nQ 1028 -1241 775 -1147 \nL 775 -588 \nQ 1028 -725 1275 -790 \nQ 1522 -856 1778 -856 \nQ 2344 -856 2625 -561 \nQ 2906 -266 2906 331 \nL 2906 616 \nQ 2728 306 2450 153 \nQ 2172 0 1784 0 \nQ 1141 0 747 490 \nQ 353 981 353 1791 \nQ 353 2603 747 3093 \nQ 1141 3584 1784 3584 \nQ 2172 3584 2450 3431 \nQ 2728 3278 2906 2969 \nL 2906 3500 \nL 3481 3500 \nL 3481 434 \nz\n\" transform=\"scale(0.015625)\"/>\n      <path id=\"DejaVuSans-20\" transform=\"scale(0.015625)\"/>\n      <path id=\"DejaVuSans-64\" d=\"M 2906 2969 \nL 2906 4863 \nL 3481 4863 \nL 3481 0 \nL 2906 0 \nL 2906 525 \nQ 2725 213 2448 61 \nQ 2172 -91 1784 -91 \nQ 1150 -91 751 415 \nQ 353 922 353 1747 \nQ 353 2572 751 3078 \nQ 1150 3584 1784 3584 \nQ 2172 3584 2448 3432 \nQ 2725 3281 2906 2969 \nz\nM 947 1747 \nQ 947 1113 1208 752 \nQ 1469 391 1925 391 \nQ 2381 391 2643 752 \nQ 2906 1113 2906 1747 \nQ 2906 2381 2643 2742 \nQ 2381 3103 1925 3103 \nQ 1469 3103 1208 2742 \nQ 947 2381 947 1747 \nz\n\" transform=\"scale(0.015625)\"/>\n      <path id=\"DejaVuSans-56\" d=\"M 1831 0 \nL 50 4666 \nL 709 4666 \nL 2188 738 \nL 3669 4666 \nL 4325 4666 \nL 2547 0 \nL 1831 0 \nz\n\" transform=\"scale(0.015625)\"/>\n      <path id=\"DejaVuSans-6c\" d=\"M 603 4863 \nL 1178 4863 \nL 1178 0 \nL 603 0 \nL 603 4863 \nz\n\" transform=\"scale(0.015625)\"/>\n      <path id=\"DejaVuSans-74\" d=\"M 1172 4494 \nL 1172 3500 \nL 2356 3500 \nL 2356 3053 \nL 1172 3053 \nL 1172 1153 \nQ 1172 725 1289 603 \nQ 1406 481 1766 481 \nL 2356 481 \nL 2356 0 \nL 1766 0 \nQ 1100 0 847 248 \nQ 594 497 594 1153 \nL 594 3053 \nL 172 3053 \nL 172 3500 \nL 594 3500 \nL 594 4494 \nL 1172 4494 \nz\n\" transform=\"scale(0.015625)\"/>\n      <path id=\"DejaVuSans-6f\" d=\"M 1959 3097 \nQ 1497 3097 1228 2736 \nQ 959 2375 959 1747 \nQ 959 1119 1226 758 \nQ 1494 397 1959 397 \nQ 2419 397 2687 759 \nQ 2956 1122 2956 1747 \nQ 2956 2369 2687 2733 \nQ 2419 3097 1959 3097 \nz\nM 1959 3584 \nQ 2709 3584 3137 3096 \nQ 3566 2609 3566 1747 \nQ 3566 888 3137 398 \nQ 2709 -91 1959 -91 \nQ 1206 -91 779 398 \nQ 353 888 353 1747 \nQ 353 2609 779 3096 \nQ 1206 3584 1959 3584 \nz\n\" transform=\"scale(0.015625)\"/>\n      <path id=\"DejaVuSans-41\" d=\"M 2188 4044 \nL 1331 1722 \nL 3047 1722 \nL 2188 4044 \nz\nM 1831 4666 \nL 2547 4666 \nL 4325 0 \nL 3669 0 \nL 3244 1197 \nL 1141 1197 \nL 716 0 \nL 50 0 \nL 1831 4666 \nz\n\" transform=\"scale(0.015625)\"/>\n      <path id=\"DejaVuSans-63\" d=\"M 3122 3366 \nL 3122 2828 \nQ 2878 2963 2633 3030 \nQ 2388 3097 2138 3097 \nQ 1578 3097 1268 2742 \nQ 959 2388 959 1747 \nQ 959 1106 1268 751 \nQ 1578 397 2138 397 \nQ 2388 397 2633 464 \nQ 2878 531 3122 666 \nL 3122 134 \nQ 2881 22 2623 -34 \nQ 2366 -91 2075 -91 \nQ 1284 -91 818 406 \nQ 353 903 353 1747 \nQ 353 2603 823 3093 \nQ 1294 3584 2113 3584 \nQ 2378 3584 2631 3529 \nQ 2884 3475 3122 3366 \nz\n\" transform=\"scale(0.015625)\"/>\n      <path id=\"DejaVuSans-75\" d=\"M 544 1381 \nL 544 3500 \nL 1119 3500 \nL 1119 1403 \nQ 1119 906 1312 657 \nQ 1506 409 1894 409 \nQ 2359 409 2629 706 \nQ 2900 1003 2900 1516 \nL 2900 3500 \nL 3475 3500 \nL 3475 0 \nL 2900 0 \nL 2900 538 \nQ 2691 219 2414 64 \nQ 2138 -91 1772 -91 \nQ 1169 -91 856 284 \nQ 544 659 544 1381 \nz\nM 1991 3584 \nL 1991 3584 \nz\n\" transform=\"scale(0.015625)\"/>\n      <path id=\"DejaVuSans-79\" d=\"M 2059 -325 \nQ 1816 -950 1584 -1140 \nQ 1353 -1331 966 -1331 \nL 506 -1331 \nL 506 -850 \nL 844 -850 \nQ 1081 -850 1212 -737 \nQ 1344 -625 1503 -206 \nL 1606 56 \nL 191 3500 \nL 800 3500 \nL 1894 763 \nL 2988 3500 \nL 3597 3500 \nL 2059 -325 \nz\n\" transform=\"scale(0.015625)\"/>\n     </defs>\n     <use xlink:href=\"#DejaVuSans-54\"/>\n     <use xlink:href=\"#DejaVuSans-72\" x=\"46.333984\"/>\n     <use xlink:href=\"#DejaVuSans-61\" x=\"87.447266\"/>\n     <use xlink:href=\"#DejaVuSans-69\" x=\"148.726562\"/>\n     <use xlink:href=\"#DejaVuSans-6e\" x=\"176.509766\"/>\n     <use xlink:href=\"#DejaVuSans-69\" x=\"239.888672\"/>\n     <use xlink:href=\"#DejaVuSans-6e\" x=\"267.671875\"/>\n     <use xlink:href=\"#DejaVuSans-67\" x=\"331.050781\"/>\n     <use xlink:href=\"#DejaVuSans-20\" x=\"394.527344\"/>\n     <use xlink:href=\"#DejaVuSans-61\" x=\"426.314453\"/>\n     <use xlink:href=\"#DejaVuSans-6e\" x=\"487.59375\"/>\n     <use xlink:href=\"#DejaVuSans-64\" x=\"550.972656\"/>\n     <use xlink:href=\"#DejaVuSans-20\" x=\"614.449219\"/>\n     <use xlink:href=\"#DejaVuSans-56\" x=\"646.236328\"/>\n     <use xlink:href=\"#DejaVuSans-61\" x=\"706.894531\"/>\n     <use xlink:href=\"#DejaVuSans-6c\" x=\"768.173828\"/>\n     <use xlink:href=\"#DejaVuSans-69\" x=\"795.957031\"/>\n     <use xlink:href=\"#DejaVuSans-64\" x=\"823.740234\"/>\n     <use xlink:href=\"#DejaVuSans-61\" x=\"887.216797\"/>\n     <use xlink:href=\"#DejaVuSans-74\" x=\"948.496094\"/>\n     <use xlink:href=\"#DejaVuSans-69\" x=\"987.705078\"/>\n     <use xlink:href=\"#DejaVuSans-6f\" x=\"1015.488281\"/>\n     <use xlink:href=\"#DejaVuSans-6e\" x=\"1076.669922\"/>\n     <use xlink:href=\"#DejaVuSans-20\" x=\"1140.048828\"/>\n     <use xlink:href=\"#DejaVuSans-41\" x=\"1171.835938\"/>\n     <use xlink:href=\"#DejaVuSans-63\" x=\"1238.494141\"/>\n     <use xlink:href=\"#DejaVuSans-63\" x=\"1293.474609\"/>\n     <use xlink:href=\"#DejaVuSans-75\" x=\"1348.455078\"/>\n     <use xlink:href=\"#DejaVuSans-72\" x=\"1411.833984\"/>\n     <use xlink:href=\"#DejaVuSans-61\" x=\"1452.947266\"/>\n     <use xlink:href=\"#DejaVuSans-63\" x=\"1514.226562\"/>\n     <use xlink:href=\"#DejaVuSans-79\" x=\"1569.207031\"/>\n    </g>\n   </g>\n   <g id=\"legend_1\">\n    <g id=\"patch_7\">\n     <path d=\"M 95.796591 452.198125 \nL 226.012216 452.198125 \nQ 228.012216 452.198125 228.012216 450.198125 \nL 228.012216 421.841875 \nQ 228.012216 419.841875 226.012216 419.841875 \nL 95.796591 419.841875 \nQ 93.796591 419.841875 93.796591 421.841875 \nL 93.796591 450.198125 \nQ 93.796591 452.198125 95.796591 452.198125 \nz\n\" style=\"fill: #ffffff; opacity: 0.8; stroke: #cccccc; stroke-linejoin: miter\"/>\n    </g>\n    <g id=\"line2d_14\">\n     <path d=\"M 97.796591 427.940312 \nL 107.796591 427.940312 \nL 117.796591 427.940312 \n\" style=\"fill: none; stroke: #03cea4; stroke-width: 1.5; stroke-linecap: square\"/>\n    </g>\n    <g id=\"text_13\">\n     <!-- Training Accuracy -->\n     <g transform=\"translate(125.796591 431.440312)scale(0.1 -0.1)\">\n      <use xlink:href=\"#DejaVuSans-54\"/>\n      <use xlink:href=\"#DejaVuSans-72\" x=\"46.333984\"/>\n      <use xlink:href=\"#DejaVuSans-61\" x=\"87.447266\"/>\n      <use xlink:href=\"#DejaVuSans-69\" x=\"148.726562\"/>\n      <use xlink:href=\"#DejaVuSans-6e\" x=\"176.509766\"/>\n      <use xlink:href=\"#DejaVuSans-69\" x=\"239.888672\"/>\n      <use xlink:href=\"#DejaVuSans-6e\" x=\"267.671875\"/>\n      <use xlink:href=\"#DejaVuSans-67\" x=\"331.050781\"/>\n      <use xlink:href=\"#DejaVuSans-20\" x=\"394.527344\"/>\n      <use xlink:href=\"#DejaVuSans-41\" x=\"426.314453\"/>\n      <use xlink:href=\"#DejaVuSans-63\" x=\"492.972656\"/>\n      <use xlink:href=\"#DejaVuSans-63\" x=\"547.953125\"/>\n      <use xlink:href=\"#DejaVuSans-75\" x=\"602.933594\"/>\n      <use xlink:href=\"#DejaVuSans-72\" x=\"666.3125\"/>\n      <use xlink:href=\"#DejaVuSans-61\" x=\"707.425781\"/>\n      <use xlink:href=\"#DejaVuSans-63\" x=\"768.705078\"/>\n      <use xlink:href=\"#DejaVuSans-79\" x=\"823.685547\"/>\n     </g>\n    </g>\n    <g id=\"line2d_15\">\n     <path d=\"M 97.796591 442.618437 \nL 107.796591 442.618437 \nL 117.796591 442.618437 \n\" style=\"fill: none; stroke: #fc00ff; stroke-width: 1.5; stroke-linecap: square\"/>\n    </g>\n    <g id=\"text_14\">\n     <!-- Validation Accuracy -->\n     <g transform=\"translate(125.796591 446.118437)scale(0.1 -0.1)\">\n      <use xlink:href=\"#DejaVuSans-56\"/>\n      <use xlink:href=\"#DejaVuSans-61\" x=\"60.658203\"/>\n      <use xlink:href=\"#DejaVuSans-6c\" x=\"121.9375\"/>\n      <use xlink:href=\"#DejaVuSans-69\" x=\"149.720703\"/>\n      <use xlink:href=\"#DejaVuSans-64\" x=\"177.503906\"/>\n      <use xlink:href=\"#DejaVuSans-61\" x=\"240.980469\"/>\n      <use xlink:href=\"#DejaVuSans-74\" x=\"302.259766\"/>\n      <use xlink:href=\"#DejaVuSans-69\" x=\"341.46875\"/>\n      <use xlink:href=\"#DejaVuSans-6f\" x=\"369.251953\"/>\n      <use xlink:href=\"#DejaVuSans-6e\" x=\"430.433594\"/>\n      <use xlink:href=\"#DejaVuSans-20\" x=\"493.8125\"/>\n      <use xlink:href=\"#DejaVuSans-41\" x=\"525.599609\"/>\n      <use xlink:href=\"#DejaVuSans-63\" x=\"592.257812\"/>\n      <use xlink:href=\"#DejaVuSans-63\" x=\"647.238281\"/>\n      <use xlink:href=\"#DejaVuSans-75\" x=\"702.21875\"/>\n      <use xlink:href=\"#DejaVuSans-72\" x=\"765.597656\"/>\n      <use xlink:href=\"#DejaVuSans-61\" x=\"806.710938\"/>\n      <use xlink:href=\"#DejaVuSans-63\" x=\"867.990234\"/>\n      <use xlink:href=\"#DejaVuSans-79\" x=\"922.970703\"/>\n     </g>\n    </g>\n   </g>\n  </g>\n  <g id=\"axes_2\">\n   <g id=\"patch_8\">\n    <path d=\"M 273.594034 457.198125 \nL 476.503125 457.198125 \nL 476.503125 22.318125 \nL 273.594034 22.318125 \nz\n\" style=\"fill: #ffffff\"/>\n   </g>\n   <g id=\"matplotlib.axis_3\">\n    <g id=\"xtick_7\">\n     <g id=\"line2d_16\">\n      <g>\n       <use xlink:href=\"#mab2edd0af2\" x=\"282.817175\" y=\"457.198125\" style=\"stroke: #000000; stroke-width: 0.8\"/>\n      </g>\n     </g>\n     <g id=\"text_15\">\n      <!-- 0 -->\n      <g transform=\"translate(279.635925 471.796562)scale(0.1 -0.1)\">\n       <use xlink:href=\"#DejaVuSans-30\"/>\n      </g>\n     </g>\n    </g>\n    <g id=\"xtick_8\">\n     <g id=\"line2d_17\">\n      <g>\n       <use xlink:href=\"#mab2edd0af2\" x=\"320.462646\" y=\"457.198125\" style=\"stroke: #000000; stroke-width: 0.8\"/>\n      </g>\n     </g>\n     <g id=\"text_16\">\n      <!-- 10 -->\n      <g transform=\"translate(314.100146 471.796562)scale(0.1 -0.1)\">\n       <use xlink:href=\"#DejaVuSans-31\"/>\n       <use xlink:href=\"#DejaVuSans-30\" x=\"63.623047\"/>\n      </g>\n     </g>\n    </g>\n    <g id=\"xtick_9\">\n     <g id=\"line2d_18\">\n      <g>\n       <use xlink:href=\"#mab2edd0af2\" x=\"358.108117\" y=\"457.198125\" style=\"stroke: #000000; stroke-width: 0.8\"/>\n      </g>\n     </g>\n     <g id=\"text_17\">\n      <!-- 20 -->\n      <g transform=\"translate(351.745617 471.796562)scale(0.1 -0.1)\">\n       <use xlink:href=\"#DejaVuSans-32\"/>\n       <use xlink:href=\"#DejaVuSans-30\" x=\"63.623047\"/>\n      </g>\n     </g>\n    </g>\n    <g id=\"xtick_10\">\n     <g id=\"line2d_19\">\n      <g>\n       <use xlink:href=\"#mab2edd0af2\" x=\"395.753589\" y=\"457.198125\" style=\"stroke: #000000; stroke-width: 0.8\"/>\n      </g>\n     </g>\n     <g id=\"text_18\">\n      <!-- 30 -->\n      <g transform=\"translate(389.391089 471.796562)scale(0.1 -0.1)\">\n       <use xlink:href=\"#DejaVuSans-33\"/>\n       <use xlink:href=\"#DejaVuSans-30\" x=\"63.623047\"/>\n      </g>\n     </g>\n    </g>\n    <g id=\"xtick_11\">\n     <g id=\"line2d_20\">\n      <g>\n       <use xlink:href=\"#mab2edd0af2\" x=\"433.39906\" y=\"457.198125\" style=\"stroke: #000000; stroke-width: 0.8\"/>\n      </g>\n     </g>\n     <g id=\"text_19\">\n      <!-- 40 -->\n      <g transform=\"translate(427.03656 471.796562)scale(0.1 -0.1)\">\n       <use xlink:href=\"#DejaVuSans-34\"/>\n       <use xlink:href=\"#DejaVuSans-30\" x=\"63.623047\"/>\n      </g>\n     </g>\n    </g>\n    <g id=\"xtick_12\">\n     <g id=\"line2d_21\">\n      <g>\n       <use xlink:href=\"#mab2edd0af2\" x=\"471.044532\" y=\"457.198125\" style=\"stroke: #000000; stroke-width: 0.8\"/>\n      </g>\n     </g>\n     <g id=\"text_20\">\n      <!-- 50 -->\n      <g transform=\"translate(464.682032 471.796562)scale(0.1 -0.1)\">\n       <use xlink:href=\"#DejaVuSans-35\"/>\n       <use xlink:href=\"#DejaVuSans-30\" x=\"63.623047\"/>\n      </g>\n     </g>\n    </g>\n   </g>\n   <g id=\"matplotlib.axis_4\">\n    <g id=\"ytick_6\">\n     <g id=\"line2d_22\">\n      <g>\n       <use xlink:href=\"#mb10fe1000f\" x=\"273.594034\" y=\"437.724464\" style=\"stroke: #000000; stroke-width: 0.8\"/>\n      </g>\n     </g>\n     <g id=\"text_21\">\n      <!-- 0.0 -->\n      <g transform=\"translate(250.690909 441.523683)scale(0.1 -0.1)\">\n       <use xlink:href=\"#DejaVuSans-30\"/>\n       <use xlink:href=\"#DejaVuSans-2e\" x=\"63.623047\"/>\n       <use xlink:href=\"#DejaVuSans-30\" x=\"95.410156\"/>\n      </g>\n     </g>\n    </g>\n    <g id=\"ytick_7\">\n     <g id=\"line2d_23\">\n      <g>\n       <use xlink:href=\"#mb10fe1000f\" x=\"273.594034\" y=\"380.359291\" style=\"stroke: #000000; stroke-width: 0.8\"/>\n      </g>\n     </g>\n     <g id=\"text_22\">\n      <!-- 0.1 -->\n      <g transform=\"translate(250.690909 384.15851)scale(0.1 -0.1)\">\n       <use xlink:href=\"#DejaVuSans-30\"/>\n       <use xlink:href=\"#DejaVuSans-2e\" x=\"63.623047\"/>\n       <use xlink:href=\"#DejaVuSans-31\" x=\"95.410156\"/>\n      </g>\n     </g>\n    </g>\n    <g id=\"ytick_8\">\n     <g id=\"line2d_24\">\n      <g>\n       <use xlink:href=\"#mb10fe1000f\" x=\"273.594034\" y=\"322.994118\" style=\"stroke: #000000; stroke-width: 0.8\"/>\n      </g>\n     </g>\n     <g id=\"text_23\">\n      <!-- 0.2 -->\n      <g transform=\"translate(250.690909 326.793337)scale(0.1 -0.1)\">\n       <use xlink:href=\"#DejaVuSans-30\"/>\n       <use xlink:href=\"#DejaVuSans-2e\" x=\"63.623047\"/>\n       <use xlink:href=\"#DejaVuSans-32\" x=\"95.410156\"/>\n      </g>\n     </g>\n    </g>\n    <g id=\"ytick_9\">\n     <g id=\"line2d_25\">\n      <g>\n       <use xlink:href=\"#mb10fe1000f\" x=\"273.594034\" y=\"265.628946\" style=\"stroke: #000000; stroke-width: 0.8\"/>\n      </g>\n     </g>\n     <g id=\"text_24\">\n      <!-- 0.3 -->\n      <g transform=\"translate(250.690909 269.428165)scale(0.1 -0.1)\">\n       <use xlink:href=\"#DejaVuSans-30\"/>\n       <use xlink:href=\"#DejaVuSans-2e\" x=\"63.623047\"/>\n       <use xlink:href=\"#DejaVuSans-33\" x=\"95.410156\"/>\n      </g>\n     </g>\n    </g>\n    <g id=\"ytick_10\">\n     <g id=\"line2d_26\">\n      <g>\n       <use xlink:href=\"#mb10fe1000f\" x=\"273.594034\" y=\"208.263773\" style=\"stroke: #000000; stroke-width: 0.8\"/>\n      </g>\n     </g>\n     <g id=\"text_25\">\n      <!-- 0.4 -->\n      <g transform=\"translate(250.690909 212.062992)scale(0.1 -0.1)\">\n       <use xlink:href=\"#DejaVuSans-30\"/>\n       <use xlink:href=\"#DejaVuSans-2e\" x=\"63.623047\"/>\n       <use xlink:href=\"#DejaVuSans-34\" x=\"95.410156\"/>\n      </g>\n     </g>\n    </g>\n    <g id=\"ytick_11\">\n     <g id=\"line2d_27\">\n      <g>\n       <use xlink:href=\"#mb10fe1000f\" x=\"273.594034\" y=\"150.8986\" style=\"stroke: #000000; stroke-width: 0.8\"/>\n      </g>\n     </g>\n     <g id=\"text_26\">\n      <!-- 0.5 -->\n      <g transform=\"translate(250.690909 154.697819)scale(0.1 -0.1)\">\n       <use xlink:href=\"#DejaVuSans-30\"/>\n       <use xlink:href=\"#DejaVuSans-2e\" x=\"63.623047\"/>\n       <use xlink:href=\"#DejaVuSans-35\" x=\"95.410156\"/>\n      </g>\n     </g>\n    </g>\n    <g id=\"ytick_12\">\n     <g id=\"line2d_28\">\n      <g>\n       <use xlink:href=\"#mb10fe1000f\" x=\"273.594034\" y=\"93.533428\" style=\"stroke: #000000; stroke-width: 0.8\"/>\n      </g>\n     </g>\n     <g id=\"text_27\">\n      <!-- 0.6 -->\n      <g transform=\"translate(250.690909 97.332647)scale(0.1 -0.1)\">\n       <use xlink:href=\"#DejaVuSans-30\"/>\n       <use xlink:href=\"#DejaVuSans-2e\" x=\"63.623047\"/>\n       <use xlink:href=\"#DejaVuSans-36\" x=\"95.410156\"/>\n      </g>\n     </g>\n    </g>\n    <g id=\"ytick_13\">\n     <g id=\"line2d_29\">\n      <g>\n       <use xlink:href=\"#mb10fe1000f\" x=\"273.594034\" y=\"36.168255\" style=\"stroke: #000000; stroke-width: 0.8\"/>\n      </g>\n     </g>\n     <g id=\"text_28\">\n      <!-- 0.7 -->\n      <g transform=\"translate(250.690909 39.967474)scale(0.1 -0.1)\">\n       <use xlink:href=\"#DejaVuSans-30\"/>\n       <use xlink:href=\"#DejaVuSans-2e\" x=\"63.623047\"/>\n       <use xlink:href=\"#DejaVuSans-37\" x=\"95.410156\"/>\n      </g>\n     </g>\n    </g>\n   </g>\n   <g id=\"line2d_30\">\n    <path d=\"M 282.817175 425.298995 \nL 286.581722 425.565866 \nL 290.346269 426.090728 \nL 294.110816 427.07171 \nL 297.875363 428.111693 \nL 301.63991 429.296155 \nL 305.404457 430.292664 \nL 309.169005 431.191838 \nL 312.933552 431.845385 \nL 316.698099 432.425123 \nL 320.462646 432.036086 \nL 324.227193 432.628654 \nL 327.99174 433.145792 \nL 331.756287 433.614855 \nL 335.520835 433.996408 \nL 339.285382 434.245795 \nL 343.049929 434.553867 \nL 346.814476 434.893341 \nL 350.579023 435.066612 \nL 354.34357 435.328678 \nL 358.108117 434.420115 \nL 361.872665 434.662371 \nL 365.637212 434.961022 \nL 369.401759 435.19414 \nL 373.166306 435.382528 \nL 376.930853 435.548939 \nL 380.6954 435.744231 \nL 384.459947 435.915216 \nL 388.224495 436.043765 \nL 391.989042 436.179305 \nL 395.753589 436.296876 \nL 399.518136 436.402776 \nL 403.282683 436.446991 \nL 407.04723 436.61106 \nL 410.811777 436.708225 \nL 414.576325 436.772188 \nL 418.340872 436.871166 \nL 422.105419 436.950085 \nL 425.869966 436.988285 \nL 429.634513 437.045305 \nL 433.39906 437.112558 \nL 437.163607 437.156298 \nL 440.928155 437.220421 \nL 444.692702 437.263896 \nL 448.457249 437.299055 \nL 452.221796 437.315586 \nL 455.986343 437.36322 \nL 459.75089 437.372609 \nL 463.515437 437.410487 \nL 467.279985 437.430852 \n\" clip-path=\"url(#p5e3e44e560)\" style=\"fill: none; stroke: #03cea4; stroke-width: 1.5; stroke-linecap: square\"/>\n   </g>\n   <g id=\"line2d_31\">\n    <path d=\"M 282.817175 42.085398 \nL 286.581722 53.393878 \nL 290.346269 72.54589 \nL 294.110816 100.056865 \nL 297.875363 128.481289 \nL 301.63991 152.478902 \nL 305.404457 173.516214 \nL 309.169005 191.203369 \nL 312.933552 202.182773 \nL 316.698099 214.142376 \nL 320.462646 228.656689 \nL 324.227193 241.614076 \nL 327.99174 250.723333 \nL 331.756287 252.804144 \nL 335.520835 258.950541 \nL 339.285382 264.241107 \nL 343.049929 264.197746 \nL 346.814476 265.689626 \nL 350.579023 267.878487 \nL 354.34357 266.992704 \nL 358.108117 272.119569 \nL 361.872665 275.851817 \nL 365.637212 272.882952 \nL 369.401759 278.552542 \nL 373.166306 278.372651 \nL 376.930853 281.293369 \nL 380.6954 275.737025 \nL 384.459947 274.84942 \nL 388.224495 275.48202 \nL 391.989042 272.750373 \nL 395.753589 268.849757 \nL 399.518136 262.123225 \nL 403.282683 266.974471 \nL 407.04723 258.57322 \nL 410.811777 258.483435 \nL 414.576325 250.303873 \nL 418.340872 251.613723 \nL 422.105419 244.550958 \nL 425.869966 237.714442 \nL 429.634513 235.509683 \nL 433.39906 228.227782 \nL 437.163607 218.968223 \nL 440.928155 223.124719 \nL 444.692702 213.573665 \nL 448.457249 188.796559 \nL 452.221796 190.607686 \nL 455.986343 172.156774 \nL 459.75089 173.152015 \nL 463.515437 169.425609 \nL 467.279985 146.735611 \n\" clip-path=\"url(#p5e3e44e560)\" style=\"fill: none; stroke: #fc00ff; stroke-width: 1.5; stroke-linecap: square\"/>\n   </g>\n   <g id=\"patch_9\">\n    <path d=\"M 273.594034 457.198125 \nL 273.594034 22.318125 \n\" style=\"fill: none; stroke: #000000; stroke-width: 0.8; stroke-linejoin: miter; stroke-linecap: square\"/>\n   </g>\n   <g id=\"patch_10\">\n    <path d=\"M 476.503125 457.198125 \nL 476.503125 22.318125 \n\" style=\"fill: none; stroke: #000000; stroke-width: 0.8; stroke-linejoin: miter; stroke-linecap: square\"/>\n   </g>\n   <g id=\"patch_11\">\n    <path d=\"M 273.594034 457.198125 \nL 476.503125 457.198125 \n\" style=\"fill: none; stroke: #000000; stroke-width: 0.8; stroke-linejoin: miter; stroke-linecap: square\"/>\n   </g>\n   <g id=\"patch_12\">\n    <path d=\"M 273.594034 22.318125 \nL 476.503125 22.318125 \n\" style=\"fill: none; stroke: #000000; stroke-width: 0.8; stroke-linejoin: miter; stroke-linecap: square\"/>\n   </g>\n   <g id=\"text_29\">\n    <!-- Training and Validation Loss -->\n    <g transform=\"translate(291.579205 16.318125)scale(0.12 -0.12)\">\n     <defs>\n      <path id=\"DejaVuSans-4c\" d=\"M 628 4666 \nL 1259 4666 \nL 1259 531 \nL 3531 531 \nL 3531 0 \nL 628 0 \nL 628 4666 \nz\n\" transform=\"scale(0.015625)\"/>\n      <path id=\"DejaVuSans-73\" d=\"M 2834 3397 \nL 2834 2853 \nQ 2591 2978 2328 3040 \nQ 2066 3103 1784 3103 \nQ 1356 3103 1142 2972 \nQ 928 2841 928 2578 \nQ 928 2378 1081 2264 \nQ 1234 2150 1697 2047 \nL 1894 2003 \nQ 2506 1872 2764 1633 \nQ 3022 1394 3022 966 \nQ 3022 478 2636 193 \nQ 2250 -91 1575 -91 \nQ 1294 -91 989 -36 \nQ 684 19 347 128 \nL 347 722 \nQ 666 556 975 473 \nQ 1284 391 1588 391 \nQ 1994 391 2212 530 \nQ 2431 669 2431 922 \nQ 2431 1156 2273 1281 \nQ 2116 1406 1581 1522 \nL 1381 1569 \nQ 847 1681 609 1914 \nQ 372 2147 372 2553 \nQ 372 3047 722 3315 \nQ 1072 3584 1716 3584 \nQ 2034 3584 2315 3537 \nQ 2597 3491 2834 3397 \nz\n\" transform=\"scale(0.015625)\"/>\n     </defs>\n     <use xlink:href=\"#DejaVuSans-54\"/>\n     <use xlink:href=\"#DejaVuSans-72\" x=\"46.333984\"/>\n     <use xlink:href=\"#DejaVuSans-61\" x=\"87.447266\"/>\n     <use xlink:href=\"#DejaVuSans-69\" x=\"148.726562\"/>\n     <use xlink:href=\"#DejaVuSans-6e\" x=\"176.509766\"/>\n     <use xlink:href=\"#DejaVuSans-69\" x=\"239.888672\"/>\n     <use xlink:href=\"#DejaVuSans-6e\" x=\"267.671875\"/>\n     <use xlink:href=\"#DejaVuSans-67\" x=\"331.050781\"/>\n     <use xlink:href=\"#DejaVuSans-20\" x=\"394.527344\"/>\n     <use xlink:href=\"#DejaVuSans-61\" x=\"426.314453\"/>\n     <use xlink:href=\"#DejaVuSans-6e\" x=\"487.59375\"/>\n     <use xlink:href=\"#DejaVuSans-64\" x=\"550.972656\"/>\n     <use xlink:href=\"#DejaVuSans-20\" x=\"614.449219\"/>\n     <use xlink:href=\"#DejaVuSans-56\" x=\"646.236328\"/>\n     <use xlink:href=\"#DejaVuSans-61\" x=\"706.894531\"/>\n     <use xlink:href=\"#DejaVuSans-6c\" x=\"768.173828\"/>\n     <use xlink:href=\"#DejaVuSans-69\" x=\"795.957031\"/>\n     <use xlink:href=\"#DejaVuSans-64\" x=\"823.740234\"/>\n     <use xlink:href=\"#DejaVuSans-61\" x=\"887.216797\"/>\n     <use xlink:href=\"#DejaVuSans-74\" x=\"948.496094\"/>\n     <use xlink:href=\"#DejaVuSans-69\" x=\"987.705078\"/>\n     <use xlink:href=\"#DejaVuSans-6f\" x=\"1015.488281\"/>\n     <use xlink:href=\"#DejaVuSans-6e\" x=\"1076.669922\"/>\n     <use xlink:href=\"#DejaVuSans-20\" x=\"1140.048828\"/>\n     <use xlink:href=\"#DejaVuSans-4c\" x=\"1171.835938\"/>\n     <use xlink:href=\"#DejaVuSans-6f\" x=\"1225.798828\"/>\n     <use xlink:href=\"#DejaVuSans-73\" x=\"1286.980469\"/>\n     <use xlink:href=\"#DejaVuSans-73\" x=\"1339.080078\"/>\n    </g>\n   </g>\n   <g id=\"legend_2\">\n    <g id=\"patch_13\">\n     <path d=\"M 280.594034 452.198125 \nL 387.087784 452.198125 \nQ 389.087784 452.198125 389.087784 450.198125 \nL 389.087784 421.841875 \nQ 389.087784 419.841875 387.087784 419.841875 \nL 280.594034 419.841875 \nQ 278.594034 419.841875 278.594034 421.841875 \nL 278.594034 450.198125 \nQ 278.594034 452.198125 280.594034 452.198125 \nz\n\" style=\"fill: #ffffff; opacity: 0.8; stroke: #cccccc; stroke-linejoin: miter\"/>\n    </g>\n    <g id=\"line2d_32\">\n     <path d=\"M 282.594034 427.940312 \nL 292.594034 427.940312 \nL 302.594034 427.940312 \n\" style=\"fill: none; stroke: #03cea4; stroke-width: 1.5; stroke-linecap: square\"/>\n    </g>\n    <g id=\"text_30\">\n     <!-- Training Loss -->\n     <g transform=\"translate(310.594034 431.440312)scale(0.1 -0.1)\">\n      <use xlink:href=\"#DejaVuSans-54\"/>\n      <use xlink:href=\"#DejaVuSans-72\" x=\"46.333984\"/>\n      <use xlink:href=\"#DejaVuSans-61\" x=\"87.447266\"/>\n      <use xlink:href=\"#DejaVuSans-69\" x=\"148.726562\"/>\n      <use xlink:href=\"#DejaVuSans-6e\" x=\"176.509766\"/>\n      <use xlink:href=\"#DejaVuSans-69\" x=\"239.888672\"/>\n      <use xlink:href=\"#DejaVuSans-6e\" x=\"267.671875\"/>\n      <use xlink:href=\"#DejaVuSans-67\" x=\"331.050781\"/>\n      <use xlink:href=\"#DejaVuSans-20\" x=\"394.527344\"/>\n      <use xlink:href=\"#DejaVuSans-4c\" x=\"426.314453\"/>\n      <use xlink:href=\"#DejaVuSans-6f\" x=\"480.277344\"/>\n      <use xlink:href=\"#DejaVuSans-73\" x=\"541.458984\"/>\n      <use xlink:href=\"#DejaVuSans-73\" x=\"593.558594\"/>\n     </g>\n    </g>\n    <g id=\"line2d_33\">\n     <path d=\"M 282.594034 442.618437 \nL 292.594034 442.618437 \nL 302.594034 442.618437 \n\" style=\"fill: none; stroke: #fc00ff; stroke-width: 1.5; stroke-linecap: square\"/>\n    </g>\n    <g id=\"text_31\">\n     <!-- Validation Loss -->\n     <g transform=\"translate(310.594034 446.118437)scale(0.1 -0.1)\">\n      <use xlink:href=\"#DejaVuSans-56\"/>\n      <use xlink:href=\"#DejaVuSans-61\" x=\"60.658203\"/>\n      <use xlink:href=\"#DejaVuSans-6c\" x=\"121.9375\"/>\n      <use xlink:href=\"#DejaVuSans-69\" x=\"149.720703\"/>\n      <use xlink:href=\"#DejaVuSans-64\" x=\"177.503906\"/>\n      <use xlink:href=\"#DejaVuSans-61\" x=\"240.980469\"/>\n      <use xlink:href=\"#DejaVuSans-74\" x=\"302.259766\"/>\n      <use xlink:href=\"#DejaVuSans-69\" x=\"341.46875\"/>\n      <use xlink:href=\"#DejaVuSans-6f\" x=\"369.251953\"/>\n      <use xlink:href=\"#DejaVuSans-6e\" x=\"430.433594\"/>\n      <use xlink:href=\"#DejaVuSans-20\" x=\"493.8125\"/>\n      <use xlink:href=\"#DejaVuSans-4c\" x=\"525.599609\"/>\n      <use xlink:href=\"#DejaVuSans-6f\" x=\"579.5625\"/>\n      <use xlink:href=\"#DejaVuSans-73\" x=\"640.744141\"/>\n      <use xlink:href=\"#DejaVuSans-73\" x=\"692.84375\"/>\n     </g>\n    </g>\n   </g>\n  </g>\n </g>\n <defs>\n  <clipPath id=\"pf81be1ed5d\">\n   <rect x=\"30.103125\" y=\"22.318125\" width=\"202.909091\" height=\"434.88\"/>\n  </clipPath>\n  <clipPath id=\"p5e3e44e560\">\n   <rect x=\"273.594034\" y=\"22.318125\" width=\"202.909091\" height=\"434.88\"/>\n  </clipPath>\n </defs>\n</svg>\n",
      "text/plain": [
       "<Figure size 576x576 with 2 Axes>"
      ]
     },
     "metadata": {
      "needs_background": "light"
     },
     "output_type": "display_data"
    }
   ],
   "source": [
    "epochs_range = range(epochs)\n",
    "\n",
    "plt.figure(figsize=(8, 8))\n",
    "plt.subplot(1, 2, 1)\n",
    "plt.plot(epochs_range, history['train_accuracy'], label='Training Accuracy', color='#03CEA4')\n",
    "plt.plot(epochs_range, history['test_accuracy'], label='Validation Accuracy', color='#fc00ff')\n",
    "plt.legend(loc='lower right')\n",
    "plt.title('Training and Validation Accuracy')\n",
    "\n",
    "plt.subplot(1, 2, 2)\n",
    "plt.plot(epochs_range, history['train_loss'], label='Training Loss', color='#03CEA4')\n",
    "plt.plot(epochs_range, history['test_loss'], label='Validation Loss', color='#fc00ff')\n",
    "plt.legend(loc='lower left')\n",
    "plt.title('Training and Validation Loss')\n",
    "plt.show()\n"
   ]
  },
  {
   "cell_type": "code",
   "execution_count": 26,
   "metadata": {},
   "outputs": [
    {
     "data": {
      "text/plain": [
       "0.90744"
      ]
     },
     "execution_count": 26,
     "metadata": {},
     "output_type": "execute_result"
    }
   ],
   "source": [
    "max(history['test_accuracy'])"
   ]
  }
 ],
 "metadata": {
  "interpreter": {
   "hash": "094e8a46ce80198b332a0d589ece882cd007e3d7e6ab8ab343ba7511982fe530"
  },
  "kernelspec": {
   "display_name": "Python 3.8.10 ('torch-venv': venv)",
   "language": "python",
   "name": "python3"
  },
  "language_info": {
   "codemirror_mode": {
    "name": "ipython",
    "version": 3
   },
   "file_extension": ".py",
   "mimetype": "text/x-python",
   "name": "python",
   "nbconvert_exporter": "python",
   "pygments_lexer": "ipython3",
   "version": "3.8.10"
  },
  "orig_nbformat": 4
 },
 "nbformat": 4,
 "nbformat_minor": 2
}
